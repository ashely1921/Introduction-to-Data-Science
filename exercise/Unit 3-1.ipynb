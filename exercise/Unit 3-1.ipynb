{
 "cells": [
  {
   "cell_type": "code",
   "execution_count": 1,
   "metadata": {},
   "outputs": [
    {
     "data": {
      "text/plain": [
       "1"
      ]
     },
     "execution_count": 1,
     "metadata": {},
     "output_type": "execute_result"
    }
   ],
   "source": [
    "8 + 7\n",
    "8 - 7\n",
    "8 * 7\n",
    "8 / 7\n",
    "8 ** 2\n",
    "8 % 7"
   ]
  },
  {
   "cell_type": "code",
   "execution_count": 2,
   "metadata": {},
   "outputs": [
    {
     "name": "stdout",
     "output_type": "stream",
     "text": [
      "開始輸出\n",
      "1 2 3\n",
      "1 2 3 4|5|6\n"
     ]
    }
   ],
   "source": [
    "print (\"開始輸出\")\n",
    "print (1, 2, 3)\n",
    "print (1, 2, 3, sep = \" \", end = \" \")\n",
    "print(4, 5, 6, sep=\"|\", end=\"\\n\")"
   ]
  },
  {
   "cell_type": "code",
   "execution_count": 3,
   "metadata": {},
   "outputs": [
    {
     "name": "stdout",
     "output_type": "stream",
     "text": [
      "⼤明的數學成績：66\n",
      "Jenny的數學成績：95.00\n",
      " Andy的數學成績：80.20\n",
      "王⼩明今年18歲。\n",
      "王⼩明今年18歲。\n"
     ]
    }
   ],
   "source": [
    "score = 66\n",
    "print(\"⼤明的數學成績：%d\" % score)\n",
    "print(\"%5s的數學成績：%5.2f\" %(\"Jenny\", 95))\n",
    "print(\"%5s的數學成績：%5.2f\" %(\"Andy\", 80.2))\n",
    "print(\"{0}今年{1}歲。\" .format(\"王⼩明\" , 18))\n",
    "print(\"{name}今年{age}歲。\" .format(name = \"王⼩明\" , age = 18))"
   ]
  },
  {
   "cell_type": "code",
   "execution_count": 4,
   "metadata": {},
   "outputs": [
    {
     "name": "stdout",
     "output_type": "stream",
     "text": [
      "10\n"
     ]
    }
   ],
   "source": [
    "x = \"5\"\n",
    "num = 5 + int(x)\n",
    "print(num)"
   ]
  },
  {
   "cell_type": "code",
   "execution_count": 5,
   "metadata": {},
   "outputs": [
    {
     "name": "stdout",
     "output_type": "stream",
     "text": [
      "10.3\n"
     ]
    }
   ],
   "source": [
    "x = \"5.3\"\n",
    "num = 5 + float(x)\n",
    "print(num)"
   ]
  },
  {
   "cell_type": "code",
   "execution_count": 6,
   "metadata": {},
   "outputs": [
    {
     "name": "stdout",
     "output_type": "stream",
     "text": [
      "輸出的數值是10.3\n"
     ]
    }
   ],
   "source": [
    "x = \"5.3\"\n",
    "num = 5 + float(x)\n",
    "print(\"輸出的數值是\" + str(num))"
   ]
  },
  {
   "cell_type": "code",
   "execution_count": 7,
   "metadata": {},
   "outputs": [
    {
     "data": {
      "text/plain": [
       "True"
      ]
     },
     "execution_count": 7,
     "metadata": {},
     "output_type": "execute_result"
    }
   ],
   "source": [
    "8 == 7\n",
    "8 != 7\n",
    "8 > 7\n",
    "8 < 7\n",
    "8 > 7"
   ]
  },
  {
   "cell_type": "code",
   "execution_count": 9,
   "metadata": {},
   "outputs": [
    {
     "name": "stdout",
     "output_type": "stream",
     "text": [
      "True and True\n",
      "False\n",
      "True\n"
     ]
    }
   ],
   "source": [
    "True and True\n",
    "True and False\n",
    "False & True\n",
    "False & False\n",
    "print(\"True and True\")\n",
    "True or True\n",
    "True or False\n",
    "False | True\n",
    "False | False\n",
    "print (not True)\n",
    "print (not False)"
   ]
  },
  {
   "cell_type": "code",
   "execution_count": 10,
   "metadata": {},
   "outputs": [
    {
     "data": {
      "text/plain": [
       "8.0"
      ]
     },
     "execution_count": 10,
     "metadata": {},
     "output_type": "execute_result"
    }
   ],
   "source": [
    "8 + True\n",
    "8 - False\n",
    "8 * False\n",
    "8 / True"
   ]
  },
  {
   "cell_type": "code",
   "execution_count": 11,
   "metadata": {},
   "outputs": [
    {
     "name": "stdout",
     "output_type": "stream",
     "text": [
      "---\n"
     ]
    },
    {
     "data": {
      "text/plain": [
       "True"
      ]
     },
     "execution_count": 11,
     "metadata": {},
     "output_type": "execute_result"
    }
   ],
   "source": [
    "True == 1\n",
    "True == 1.0\n",
    "True == 1 + 0j\n",
    "print(\"---\")\n",
    "False == 0\n",
    "False == 0.0\n",
    "False == 0 + 0j"
   ]
  },
  {
   "cell_type": "code",
   "execution_count": 12,
   "metadata": {},
   "outputs": [
    {
     "data": {
      "text/plain": [
       "'I don\\'t think you\\'ll ever be just \"anybody\".'"
      ]
     },
     "execution_count": 12,
     "metadata": {},
     "output_type": "execute_result"
    }
   ],
   "source": [
    "'I am loving it!'\n",
    "'I\\'m loving it!'\n",
    "'I don\\'t think you\\'ll ever be just \"anybody\".'\n",
    "\"I don't think you'll ever be just \\\"anybody\\\".\""
   ]
  },
  {
   "cell_type": "code",
   "execution_count": 14,
   "metadata": {},
   "outputs": [
    {
     "name": "stdout",
     "output_type": "stream",
     "text": [
      "Hello!How Are You?\n",
      "Hello!Hello!Hello!\n",
      "Hello!\n",
      "How Are You?\n",
      "I'm loving it!\n",
      "I'm loving it!!!\n"
     ]
    }
   ],
   "source": [
    "str1 = \"Hello!\" + \"How Are You?\"\n",
    "print(str1)\n",
    "str2 = \"Hello!\" * 3\n",
    "print(str2)\n",
    "str3 = \"Hello!\\nHow Are You?\"\n",
    "print(str3)\n",
    "print (\"I'm\" + \" loving\" + \" it!\")\n",
    "print (\"I'm loving it\" + \"!\" * 3)"
   ]
  },
  {
   "cell_type": "code",
   "execution_count": 15,
   "metadata": {},
   "outputs": [
    {
     "name": "stdout",
     "output_type": "stream",
     "text": [
      "A\n",
      "J\n",
      "ACEG\n",
      "CEGIK\n",
      "ACEGIK\n",
      "['Do', 'one', 'thing', 'at', 'a', 'time!']\n",
      "['Do', '\\none', '\\nthing \\nat a time!']\n"
     ]
    }
   ],
   "source": [
    "str = \"ABCDEFGHIJK\"\n",
    "print(str[0])\n",
    "print(str[-2])\n",
    "print(str[:7:2])\n",
    "print(str[2::2])\n",
    "print(str[::2])\n",
    "str1 = \"Do \\none \\nthing \\nat a time!\"\n",
    "print(str1.split())\n",
    "print(str1.split( ' ', 2 ))"
   ]
  },
  {
   "cell_type": "code",
   "execution_count": 16,
   "metadata": {},
   "outputs": [
    {
     "name": "stdout",
     "output_type": "stream",
     "text": [
      "The first wealth is health! Health is important!,長度是48\n",
      "THE FIRST WEALTH IS HEALTH! HEALTH IS IMPORTANT!\n",
      "the first wealth is health! health is important!\n",
      "Health\n"
     ]
    },
    {
     "data": {
      "text/plain": [
       "'The first wealth is health! Health is 重要!'"
      ]
     },
     "execution_count": 16,
     "metadata": {},
     "output_type": "execute_result"
    }
   ],
   "source": [
    "str = \"The first wealth is health! Health is important!\"\n",
    "print (\"{},長度是{}\" .format(str, len(str)))\n",
    "print(str.upper())\n",
    "print(str.lower())\n",
    "print(\"health\".capitalize())\n",
    "str.islower()\n",
    "str.count(\"health\")\n",
    "str.strip(\"h!\")\n",
    "str.replace(\"important\", \"重要\")"
   ]
  },
  {
   "cell_type": "code",
   "execution_count": 22,
   "metadata": {},
   "outputs": [
    {
     "name": "stdout",
     "output_type": "stream",
     "text": [
      "<class 'datetime.date'>\n"
     ]
    }
   ],
   "source": [
    "from datetime import date\n",
    "sys_date = date.today()\n",
    "print (type(sys_date))"
   ]
  },
  {
   "cell_type": "code",
   "execution_count": 20,
   "metadata": {},
   "outputs": [
    {
     "data": {
      "text/plain": [
       "datetime.date(2017, 12, 31)"
      ]
     },
     "execution_count": 20,
     "metadata": {},
     "output_type": "execute_result"
    }
   ],
   "source": [
    "from datetime import date\n",
    "start_of_2017 = date(2017, 1, 1)\n",
    "end_of_2017 = date(2017, 12, 31)\n",
    "start_of_2017\n",
    "end_of_2017"
   ]
  },
  {
   "cell_type": "code",
   "execution_count": 23,
   "metadata": {},
   "outputs": [
    {
     "data": {
      "text/plain": [
       "datetime.date(2018, 1, 1)"
      ]
     },
     "execution_count": 23,
     "metadata": {},
     "output_type": "execute_result"
    }
   ],
   "source": [
    "from datetime import date\n",
    "start_of_2017 = date(2017, 1, 1)\n",
    "start_of_2018 = start_of_2017.replace(year = 2018)\n",
    "start_of_2018"
   ]
  },
  {
   "cell_type": "code",
   "execution_count": 24,
   "metadata": {},
   "outputs": [
    {
     "data": {
      "text/plain": [
       "364"
      ]
     },
     "execution_count": 24,
     "metadata": {},
     "output_type": "execute_result"
    }
   ],
   "source": [
    "from datetime import date\n",
    "start_of_2017 = date(2017, 1, 1)\n",
    "end_of_2017 = start_of_2017.replace(month = 12, day = 31)\n",
    "days_dff = end_of_2017 - start_of_2017\n",
    "days_dff.days"
   ]
  },
  {
   "cell_type": "code",
   "execution_count": 25,
   "metadata": {},
   "outputs": [
    {
     "data": {
      "text/plain": [
       "datetime.time"
      ]
     },
     "execution_count": 25,
     "metadata": {},
     "output_type": "execute_result"
    }
   ],
   "source": [
    "from datetime import time\n",
    "sleep_time = time(23, 0, 0)\n",
    "sleep_time\n",
    "type(sleep_time)"
   ]
  },
  {
   "cell_type": "code",
   "execution_count": 26,
   "metadata": {},
   "outputs": [
    {
     "data": {
      "text/plain": [
       "datetime.time(7, 0)"
      ]
     },
     "execution_count": 26,
     "metadata": {},
     "output_type": "execute_result"
    }
   ],
   "source": [
    "from datetime import time\n",
    "sleep_time = time(23, 0, 0)\n",
    "wake_up_time = sleep_time.replace(hour = 7)\n",
    "wake_up_time"
   ]
  },
  {
   "cell_type": "code",
   "execution_count": 27,
   "metadata": {},
   "outputs": [
    {
     "data": {
      "text/plain": [
       "datetime.datetime"
      ]
     },
     "execution_count": 27,
     "metadata": {},
     "output_type": "execute_result"
    }
   ],
   "source": [
    "from datetime import datetime\n",
    "sys_datetime = datetime.now()\n",
    "sys_datetime\n",
    "type(sys_datetime)"
   ]
  },
  {
   "cell_type": "code",
   "execution_count": 28,
   "metadata": {},
   "outputs": [
    {
     "data": {
      "text/plain": [
       "datetime.datetime(2017, 1, 1, 0, 0)"
      ]
     },
     "execution_count": 28,
     "metadata": {},
     "output_type": "execute_result"
    }
   ],
   "source": [
    "from datetime import datetime\n",
    "start_of_2017 = datetime(2017, 1, 1, 0, 0, 0)\n",
    "start_of_2017"
   ]
  },
  {
   "cell_type": "code",
   "execution_count": 29,
   "metadata": {},
   "outputs": [
    {
     "data": {
      "text/plain": [
       "datetime.datetime(2017, 12, 31, 23, 59, 59)"
      ]
     },
     "execution_count": 29,
     "metadata": {},
     "output_type": "execute_result"
    }
   ],
   "source": [
    "from datetime import datetime\n",
    "start_of_2017 = datetime(2017, 1, 1, 0, 0, 1)\n",
    "end_of_2017 = start_of_2017.replace(month = 12, day = 31, hour = 23, minute = 59, second = 59)\n",
    "end_of_2017"
   ]
  },
  {
   "cell_type": "code",
   "execution_count": 30,
   "metadata": {},
   "outputs": [
    {
     "data": {
      "text/plain": [
       "86398"
      ]
     },
     "execution_count": 30,
     "metadata": {},
     "output_type": "execute_result"
    }
   ],
   "source": [
    "from datetime import datetime\n",
    "start_of_2017 = datetime(2017, 1, 1, 0, 0, 1)\n",
    "end_of_2017 = start_of_2017.replace(month = 12, day = 31, hour = 23, minute = 59, second = 59)\n",
    "date_time_diff = end_of_2017 - start_of_2017\n",
    "date_time_diff.days\n",
    "date_time_diff.seconds"
   ]
  },
  {
   "cell_type": "code",
   "execution_count": 31,
   "metadata": {},
   "outputs": [],
   "source": [
    "starring_1 = \"Jennifer Aniston\"\n",
    "starring_2 = \"Courteney Cox\"\n",
    "starring_3 = \"Lisa Kudrow\"\n",
    "starring_4 = \"Matt LeBlanc\"\n",
    "starring_5 = \"Matthew Perry\"\n",
    "starring_6 = \"David Schwimmer\""
   ]
  },
  {
   "cell_type": "code",
   "execution_count": 32,
   "metadata": {},
   "outputs": [
    {
     "data": {
      "text/plain": [
       "['Jennifer Aniston',\n",
       " 'Courteney Cox',\n",
       " 'Lisa Kudrow',\n",
       " 'Matt LeBlanc',\n",
       " 'Matthew Perry',\n",
       " 'David Schwimmer']"
      ]
     },
     "execution_count": 32,
     "metadata": {},
     "output_type": "execute_result"
    }
   ],
   "source": [
    "starrings = [\"Jennifer Aniston\", \"Courteney Cox\", \"Lisa Kudrow\", \"Matt LeBlanc\", \"Matthew Perry\", \"David Schwimmer\"]\n",
    "starrings"
   ]
  },
  {
   "cell_type": "code",
   "execution_count": 33,
   "metadata": {},
   "outputs": [
    {
     "data": {
      "text/plain": [
       "list"
      ]
     },
     "execution_count": 33,
     "metadata": {},
     "output_type": "execute_result"
    }
   ],
   "source": [
    "genre = \"sitcom\"\n",
    "no_of_episodes = 236\n",
    "still_airing = False\n",
    "friends = [genre, no_of_episodes, still_airing]\n",
    "friends\n",
    "type(friends)"
   ]
  },
  {
   "cell_type": "code",
   "execution_count": 34,
   "metadata": {},
   "outputs": [],
   "source": [
    "team_name = \"Chicago Bulls\"\n",
    "wins = 72\n",
    "losses = 10\n",
    "win_percentage = wins / (wins + losses)\n",
    "is_champion = True\n",
    "chicago_bulls = [team_name, wins, losses, win_percentage, is_champion]"
   ]
  },
  {
   "cell_type": "code",
   "execution_count": 38,
   "metadata": {},
   "outputs": [
    {
     "name": "stdout",
     "output_type": "stream",
     "text": [
      "3\n"
     ]
    },
    {
     "ename": "NameError",
     "evalue": "name 'fruiutlist' is not defined",
     "output_type": "error",
     "traceback": [
      "\u001b[1;31m---------------------------------------------------------------------------\u001b[0m",
      "\u001b[1;31mNameError\u001b[0m                                 Traceback (most recent call last)",
      "\u001b[1;32m<ipython-input-38-22fccdd2d222>\u001b[0m in \u001b[0;36m<module>\u001b[1;34m()\u001b[0m\n\u001b[0;32m      3\u001b[0m \u001b[0mfruitlist\u001b[0m\u001b[1;33m[\u001b[0m\u001b[1;36m1\u001b[0m\u001b[1;33m]\u001b[0m \u001b[1;33m=\u001b[0m\u001b[1;34m\"Kiwi\"\u001b[0m\u001b[1;33m\u001b[0m\u001b[0m\n\u001b[0;32m      4\u001b[0m \u001b[0mfruitlist\u001b[0m\u001b[1;33m.\u001b[0m\u001b[0mappend\u001b[0m\u001b[1;33m(\u001b[0m\u001b[1;34m\"Mongo\"\u001b[0m\u001b[1;33m)\u001b[0m\u001b[1;33m\u001b[0m\u001b[0m\n\u001b[1;32m----> 5\u001b[1;33m \u001b[0mfruiutlist\u001b[0m\u001b[1;33m.\u001b[0m\u001b[0minsert\u001b[0m\u001b[1;33m(\u001b[0m\u001b[1;36m1\u001b[0m\u001b[1;33m,\u001b[0m \u001b[1;34m\"banana\"\u001b[0m\u001b[1;33m)\u001b[0m\u001b[1;33m\u001b[0m\u001b[0m\n\u001b[0m\u001b[0;32m      6\u001b[0m \u001b[0mfruitlist\u001b[0m\u001b[1;33m.\u001b[0m\u001b[0mremove\u001b[0m\u001b[1;33m(\u001b[0m\u001b[1;34m\"Orange\"\u001b[0m\u001b[1;33m)\u001b[0m\u001b[1;33m\u001b[0m\u001b[0m\n\u001b[0;32m      7\u001b[0m \u001b[0mfruitlist\u001b[0m\u001b[1;33m.\u001b[0m\u001b[0mpop\u001b[0m\u001b[1;33m(\u001b[0m\u001b[1;36m1\u001b[0m\u001b[1;33m)\u001b[0m\u001b[1;33m\u001b[0m\u001b[0m\n",
      "\u001b[1;31mNameError\u001b[0m: name 'fruiutlist' is not defined"
     ]
    }
   ],
   "source": [
    "fruitlist = [\"Apple\", \"Orange\", \"Lemon\"]\n",
    "print(len(fruitlist))\n",
    "fruitlist[1] =\"Kiwi\"\n",
    "fruitlist.append(\"Mongo\")\n",
    "fruiutlist.insert(1, \"banana\")\n",
    "fruitlist.remove(\"Orange\")\n",
    "fruitlist.pop(1)\n",
    "fruitlist.sort()"
   ]
  },
  {
   "cell_type": "code",
   "execution_count": 39,
   "metadata": {},
   "outputs": [
    {
     "data": {
      "text/plain": [
       "['Matt LeBlanc', 'Matthew Perry', 'David Schwimmer']"
      ]
     },
     "execution_count": 39,
     "metadata": {},
     "output_type": "execute_result"
    }
   ],
   "source": [
    "starrings = [\"Jennifer Aniston\", \"Courteney Cox\", \"Lisa Kudrow\", \"Matt LeBlanc\", \"Matthew Perry\", \"David Schwimmer\"]\n",
    "starrings[0]\n",
    "starrings[-1]\n",
    "starrings[:3]\n",
    "starrings[3:]"
   ]
  },
  {
   "cell_type": "code",
   "execution_count": 40,
   "metadata": {},
   "outputs": [
    {
     "data": {
      "text/plain": [
       "bool"
      ]
     },
     "execution_count": 40,
     "metadata": {},
     "output_type": "execute_result"
    }
   ],
   "source": [
    "genre = \"sitcom\"\n",
    "no_of_episodes = 236\n",
    "still_airing = False\n",
    "friends = [genre, no_of_episodes, still_airing]\n",
    "type(friends[0])\n",
    "type(friends[1])\n",
    "type(friends[2])"
   ]
  },
  {
   "cell_type": "code",
   "execution_count": 41,
   "metadata": {},
   "outputs": [],
   "source": [
    "team_name = \"Chicago Bulls\"\n",
    "wins = 72\n",
    "losses = 10\n",
    "win_percentage = wins / (wins + losses)\n",
    "is_champion = True\n",
    "chicago_bulls_list = [team_name, wins, losses, win_percentage, is_champion]\n",
    "chicago_bulls_tuple = (team_name, wins, losses, win_percentage, is_champion)\n",
    "#或 chicago_bulls_tuple = tuple(chicago_bulls_list)"
   ]
  },
  {
   "cell_type": "code",
   "execution_count": 42,
   "metadata": {},
   "outputs": [
    {
     "data": {
      "text/plain": [
       "tuple"
      ]
     },
     "execution_count": 42,
     "metadata": {},
     "output_type": "execute_result"
    }
   ],
   "source": [
    "starrings_list = [\"Jennifer Aniston\", \"Courteney Cox\", \"Lisa Kudrow\", \"Matt LeBlanc\", \"Matthew Perry\", \"David Schwimmer\"]\n",
    "starrings_tuple = tuple(starrings_list)\n",
    "starrings_tuple\n",
    "type(starrings_tuple)"
   ]
  },
  {
   "cell_type": "code",
   "execution_count": 43,
   "metadata": {},
   "outputs": [
    {
     "data": {
      "text/plain": [
       "tuple"
      ]
     },
     "execution_count": 43,
     "metadata": {},
     "output_type": "execute_result"
    }
   ],
   "source": [
    "starrings_tuple = (\"Jennifer Aniston\", \"Courteney Cox\", \"Lisa Kudrow\", \"Matt LeBlanc\", \"Matthew Perry\", \"David Schwimmer\")\n",
    "starrings_tuple\n",
    "type(starrings_tuple)"
   ]
  },
  {
   "cell_type": "code",
   "execution_count": 46,
   "metadata": {},
   "outputs": [
    {
     "data": {
      "text/plain": [
       "['Jennifer Aniston',\n",
       " 'Courteney Cox',\n",
       " 'Lisa Kudrow',\n",
       " 'Matt LeBlanc',\n",
       " 'Matthew Perry',\n",
       " 'David Schwimmer']"
      ]
     },
     "execution_count": 46,
     "metadata": {},
     "output_type": "execute_result"
    }
   ],
   "source": [
    "starrings_list = [\"Jennifer Aniston\", \"Courteney Cox\", \"Lisa Kudrow\", \"Matt LeBlanc\", \"Matthew Perry\"]\n",
    "starrings_list.append(\"David Schwimmer\")\n",
    "starrings_list"
   ]
  },
  {
   "cell_type": "code",
   "execution_count": 47,
   "metadata": {},
   "outputs": [
    {
     "ename": "AttributeError",
     "evalue": "'tuple' object has no attribute 'append'",
     "output_type": "error",
     "traceback": [
      "\u001b[1;31m---------------------------------------------------------------------------\u001b[0m",
      "\u001b[1;31mAttributeError\u001b[0m                            Traceback (most recent call last)",
      "\u001b[1;32m<ipython-input-47-d27a64b54f58>\u001b[0m in \u001b[0;36m<module>\u001b[1;34m()\u001b[0m\n\u001b[0;32m     24\u001b[0m \u001b[1;31m# tuple 不可以新增\u001b[0m\u001b[1;33m\u001b[0m\u001b[1;33m\u001b[0m\u001b[0m\n\u001b[0;32m     25\u001b[0m \u001b[0mstarrings_tuple\u001b[0m \u001b[1;33m=\u001b[0m \u001b[1;33m(\u001b[0m\u001b[1;34m\"Jennifer Aniston\"\u001b[0m\u001b[1;33m,\u001b[0m \u001b[1;34m\"Courteney Cox\"\u001b[0m\u001b[1;33m,\u001b[0m \u001b[1;34m\"Lisa Kudrow\"\u001b[0m\u001b[1;33m,\u001b[0m \u001b[1;34m\"Matt LeBlanc\"\u001b[0m\u001b[1;33m,\u001b[0m \u001b[1;34m\"Matthew Perry\"\u001b[0m\u001b[1;33m)\u001b[0m\u001b[1;33m\u001b[0m\u001b[0m\n\u001b[1;32m---> 26\u001b[1;33m \u001b[0mstarrings_tuple\u001b[0m\u001b[1;33m.\u001b[0m\u001b[0mappend\u001b[0m\u001b[1;33m(\u001b[0m\u001b[1;34m\"David Schwimmer\"\u001b[0m\u001b[1;33m)\u001b[0m\u001b[1;33m\u001b[0m\u001b[0m\n\u001b[0m",
      "\u001b[1;31mAttributeError\u001b[0m: 'tuple' object has no attribute 'append'"
     ]
    }
   ],
   "source": [
    "# 例⼀\n",
    "team_name = \"Chicago Bulls\"\n",
    "wins = 72\n",
    "losses = 10\n",
    "win_percentage = wins / (wins + losses)\n",
    "is_champion = True\n",
    "chicago_bulls_list = [team_name, wins, losses, win_percentage, is_champion]\n",
    "chicago_bulls_tuple = (team_name, wins, losses, win_percentage, is_champion)\n",
    "#或 chicago_bulls_tuple = tuple(chicago_bulls_list)\n",
    "# 例⼆\n",
    "# 使⽤ tuple 函數\n",
    "starrings_list = [\"Jennifer Aniston\", \"Courteney Cox\", \"Lisa Kudrow\", \"Matt LeBlanc\", \"Matthew Perry\", \"David Schwimmer\"]\n",
    "starrings_tuple = tuple(starrings_list)\n",
    "starrings_tuple\n",
    "type(starrings_tuple)\n",
    "# 使⽤⼩括號\n",
    "starrings_tuple = (\"Jennifer Aniston\", \"Courteney Cox\", \"Lisa Kudrow\", \"Matt LeBlanc\", \"Matthew Perry\", \"David Schwimmer\")\n",
    "starrings_tuple\n",
    "type(starrings_tuple)\n",
    "# list 可以新增\n",
    "starrings_list = [\"Jennifer Aniston\", \"Courteney Cox\", \"Lisa Kudrow\", \"Matt LeBlanc\", \"Matthew Perry\"]\n",
    "starrings_list.append(\"David Schwimmer\")\n",
    "starrings_list\n",
    "# tuple 不可以新增\n",
    "starrings_tuple = (\"Jennifer Aniston\", \"Courteney Cox\", \"Lisa Kudrow\", \"Matt LeBlanc\", \"Matthew Perry\")\n",
    "starrings_tuple.append(\"David Schwimmer\")"
   ]
  },
  {
   "cell_type": "code",
   "execution_count": 48,
   "metadata": {},
   "outputs": [
    {
     "data": {
      "text/plain": [
       "set"
      ]
     },
     "execution_count": 48,
     "metadata": {},
     "output_type": "execute_result"
    }
   ],
   "source": [
    "gender_list = [\"female\", \"female\", \"female\", \"male\", \"male\", \"male\"]\n",
    "gender_set = set(gender_list)\n",
    "gender_set\n",
    "type(gender_set)"
   ]
  },
  {
   "cell_type": "code",
   "execution_count": 49,
   "metadata": {},
   "outputs": [
    {
     "data": {
      "text/plain": [
       "set"
      ]
     },
     "execution_count": 49,
     "metadata": {},
     "output_type": "execute_result"
    }
   ],
   "source": [
    "gender_set = {\"female\", \"female\", \"female\", \"male\", \"male\", \"male\"}\n",
    "gender_set\n",
    "type(gender_set)"
   ]
  },
  {
   "cell_type": "code",
   "execution_count": 52,
   "metadata": {},
   "outputs": [
    {
     "name": "stdout",
     "output_type": "stream",
     "text": [
      "{'dog', 'cat', 'fish', 'bird'}\n",
      "{'dog', 'fish', 'bird'}\n",
      "{'fish', 'bird', 'dog', 'monkey'}\n",
      "True\n",
      "True\n",
      "{'dog', 'cat'}\n",
      "{'wolf', 'bird', 'turtle', 'dog', 'pig', 'cat'}\n",
      "{'pig', 'bird'}\n",
      "{'wolf', 'bird', 'turtle', 'pig'}\n"
     ]
    }
   ],
   "source": [
    "animal = {\"bird\" , \"cat\" , \"dog\" }\n",
    "animal.add(\"fish\")\n",
    "print(animal)\n",
    "animal.remove(\"cat\")\n",
    "print(animal)\n",
    "animal.update({\"bird\", \"monkey\"})\n",
    "print(animal)\n",
    "print(\"fish\" in animal)\n",
    "print(\"monkey\" in animal)\n",
    "zooA ={\"bird\" , \"cat\" , \"dog\" , \"pig\"}\n",
    "zooB ={\"wolf\" , \"cat\", \"dog\" , \"turtle\"}\n",
    "print(zooA & zooB)\n",
    "print(zooA | zooB)\n",
    "print(zooA - zooB)\n",
    "print(zooA ^ zooB)"
   ]
  },
  {
   "cell_type": "code",
   "execution_count": 54,
   "metadata": {},
   "outputs": [
    {
     "ename": "TypeError",
     "evalue": "'set' object does not support indexing",
     "output_type": "error",
     "traceback": [
      "\u001b[1;31m---------------------------------------------------------------------------\u001b[0m",
      "\u001b[1;31mTypeError\u001b[0m                                 Traceback (most recent call last)",
      "\u001b[1;32m<ipython-input-54-5db8ff7f9f15>\u001b[0m in \u001b[0;36m<module>\u001b[1;34m()\u001b[0m\n\u001b[0;32m      1\u001b[0m \u001b[1;31m#於它沒有辦法利⽤中括號與索引值選取元素\u001b[0m\u001b[1;33m\u001b[0m\u001b[1;33m\u001b[0m\u001b[0m\n\u001b[0;32m      2\u001b[0m \u001b[0mgender_set\u001b[0m \u001b[1;33m=\u001b[0m \u001b[1;33m{\u001b[0m\u001b[1;34m\"female\"\u001b[0m\u001b[1;33m,\u001b[0m \u001b[1;34m\"female\"\u001b[0m\u001b[1;33m,\u001b[0m \u001b[1;34m\"female\"\u001b[0m\u001b[1;33m,\u001b[0m \u001b[1;34m\"male\"\u001b[0m\u001b[1;33m,\u001b[0m \u001b[1;34m\"male\"\u001b[0m\u001b[1;33m,\u001b[0m \u001b[1;34m\"male\"\u001b[0m\u001b[1;33m}\u001b[0m\u001b[1;33m\u001b[0m\u001b[0m\n\u001b[1;32m----> 3\u001b[1;33m \u001b[0mgender_set\u001b[0m\u001b[1;33m[\u001b[0m\u001b[1;36m0\u001b[0m\u001b[1;33m]\u001b[0m\u001b[1;33m\u001b[0m\u001b[0m\n\u001b[0m",
      "\u001b[1;31mTypeError\u001b[0m: 'set' object does not support indexing"
     ]
    }
   ],
   "source": [
    "#於它沒有辦法利⽤中括號與索引值選取元素\n",
    "gender_set = {\"female\", \"female\", \"female\", \"male\", \"male\", \"male\"}\n",
    "gender_set[0]"
   ]
  },
  {
   "cell_type": "code",
   "execution_count": 57,
   "metadata": {},
   "outputs": [],
   "source": [
    "team_name = \"Chicago Bulls\"\n",
    "wins = 72\n",
    "losses = 10\n",
    "win_percentage = wins / (wins + losses)\n",
    "is_champion = True\n",
    "chicago_bulls = {\n",
    " \"team_name\": team_name,\n",
    " \"wins\": wins,\n",
    " \"losses\": losses,\n",
    " \"win_percentage\": win_percentage,\n",
    " \"is_champion\": is_champion\n",
    "}"
   ]
  },
  {
   "cell_type": "code",
   "execution_count": 58,
   "metadata": {},
   "outputs": [
    {
     "data": {
      "text/plain": [
       "dict"
      ]
     },
     "execution_count": 58,
     "metadata": {},
     "output_type": "execute_result"
    }
   ],
   "source": [
    "friends_dict = {\n",
    " \"genre\": \"sitcom\",\n",
    " \"seasons\": 10,\n",
    " \"episodes\": 236,\n",
    " \"starrings\": [\"Jennifer Aniston\", \"Courteney Cox\", \"Lisa Kudrow\", \"Matt LeBlanc\", \"Matthew Perry\", \"David Schwimmer\"]\n",
    "}\n",
    "type(friends_dict)"
   ]
  },
  {
   "cell_type": "code",
   "execution_count": 59,
   "metadata": {},
   "outputs": [
    {
     "name": "stdout",
     "output_type": "stream",
     "text": [
      "{}\n",
      "{'name': 'Andy', 'age': 18, 'city': '⾼雄'}\n",
      "{'name': 'Andy', 'age': 18, 'city': '⾼雄'}\n",
      "dict_items([('name', 'Andy'), ('age', 18), ('city', '⾼雄')])\n",
      "dict_keys(['name', 'age', 'city'])\n",
      "dict_values(['Andy', 18, '⾼雄'])\n"
     ]
    }
   ],
   "source": [
    "dic = {\"name\": \"Andy\", \"age\":18, \"city\":\"台北\"}\n",
    "dic.clear()\n",
    "print(dic)\n",
    "dicA = {\"name\": \"Andy\", \"age\":18, \"city\":\"⾼雄\"}\n",
    "dic = dicA.copy()\n",
    "print(dic)\n",
    "dic.get(\"age\")\n",
    "dic.pop(\"city\")\n",
    "dic.update(dicA)\n",
    "print(dic)\n",
    "print(dic.items())\n",
    "print(dic.keys())\n",
    "print(dic.values())"
   ]
  },
  {
   "cell_type": "code",
   "execution_count": 60,
   "metadata": {},
   "outputs": [
    {
     "data": {
      "text/plain": [
       "['Jennifer Aniston',\n",
       " 'Courteney Cox',\n",
       " 'Lisa Kudrow',\n",
       " 'Matt LeBlanc',\n",
       " 'Matthew Perry',\n",
       " 'David Schwimmer']"
      ]
     },
     "execution_count": 60,
     "metadata": {},
     "output_type": "execute_result"
    }
   ],
   "source": [
    "friends_dict = {\n",
    " \"genre\": \"sitcom\",\n",
    " \"seasons\": 10,\n",
    " \"episodes\": 236,\n",
    " \"starrings\": [\"Jennifer Aniston\", \"Courteney Cox\", \"Lisa Kudrow\", \"Matt LeBlanc\", \"Matthew Perry\", \"David Schwimmer\"]\n",
    "}\n",
    "friends_dict[\"genre\"]\n",
    "friends_dict[\"seasons\"]\n",
    "friends_dict[\"episodes\"]\n",
    "friends_dict[\"starrings\"]"
   ]
  },
  {
   "cell_type": "code",
   "execution_count": null,
   "metadata": {},
   "outputs": [],
   "source": []
  }
 ],
 "metadata": {
  "kernelspec": {
   "display_name": "Python 3",
   "language": "python",
   "name": "python3"
  },
  "language_info": {
   "codemirror_mode": {
    "name": "ipython",
    "version": 3
   },
   "file_extension": ".py",
   "mimetype": "text/x-python",
   "name": "python",
   "nbconvert_exporter": "python",
   "pygments_lexer": "ipython3",
   "version": "3.7.0"
  }
 },
 "nbformat": 4,
 "nbformat_minor": 2
}
