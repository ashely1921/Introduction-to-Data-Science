{
 "cells": [
  {
   "cell_type": "code",
   "execution_count": 108,
   "metadata": {},
   "outputs": [
    {
     "ename": "SyntaxError",
     "evalue": "invalid syntax (<ipython-input-108-4f98439ed724>, line 5)",
     "output_type": "error",
     "traceback": [
      "\u001b[1;36m  File \u001b[1;32m\"<ipython-input-108-4f98439ed724>\"\u001b[1;36m, line \u001b[1;32m5\u001b[0m\n\u001b[1;33m    print ()\"天氣是%s，去⼾外跑步\" % weather)\u001b[0m\n\u001b[1;37m                        ^\u001b[0m\n\u001b[1;31mSyntaxError\u001b[0m\u001b[1;31m:\u001b[0m invalid syntax\n"
     ]
    }
   ],
   "source": [
    "import random\n",
    "weathers = [\"晴天\", \"下雨\"]\n",
    "weather = weathers[random.randint(0, 1)]\n",
    "if weather == \"晴天\":\n",
    " print ()\"天氣是%s，去⼾外跑步\" % weather)\n",
    "else:\n",
    " print (\"天氣是%s，去健⾝房\" % weather)"
   ]
  },
  {
   "cell_type": "code",
   "execution_count": 4,
   "metadata": {},
   "outputs": [
    {
     "ename": "IndentationError",
     "evalue": "expected an indented block (<ipython-input-4-285d752b5e77>, line 3)",
     "output_type": "error",
     "traceback": [
      "\u001b[1;36m  File \u001b[1;32m\"<ipython-input-4-285d752b5e77>\"\u001b[1;36m, line \u001b[1;32m3\u001b[0m\n\u001b[1;33m    else:\u001b[0m\n\u001b[1;37m       ^\u001b[0m\n\u001b[1;31mIndentationError\u001b[0m\u001b[1;31m:\u001b[0m expected an indented block\n"
     ]
    }
   ],
   "source": [
    "if (a==b)and(a>b):\n",
    " #如果a等於b且a⼤於b，就執⾏這裡的敘述\n",
    "else:\n",
    " #如果a不等於b且a⼩於b，就執⾏這裡的敘述"
   ]
  },
  {
   "cell_type": "code",
   "execution_count": 6,
   "metadata": {},
   "outputs": [
    {
     "name": "stdout",
     "output_type": "stream",
     "text": [
      "天氣是晴天，去⼾外跑步\n"
     ]
    }
   ],
   "source": [
    "import random\n",
    "weathers = [\"晴天\", \"下雨\", \"暴風雨\"]\n",
    "weather = weathers[random.randint(0, 2)]\n",
    "if weather == \"晴天\":\n",
    " print (\"天氣是%s，去⼾外跑步\" % weather)\n",
    "elif weather == \"下雨\":\n",
    " print (\"天氣是%s，去健⾝房\" % weather)\n",
    "else:\n",
    " print (\"天氣是%s，睡回籠覺\" % weather)"
   ]
  },
  {
   "cell_type": "code",
   "execution_count": 7,
   "metadata": {},
   "outputs": [
    {
     "ename": "IndentationError",
     "evalue": "unexpected indent (<ipython-input-7-46dc02477c08>, line 2)",
     "output_type": "error",
     "traceback": [
      "\u001b[1;36m  File \u001b[1;32m\"<ipython-input-7-46dc02477c08>\"\u001b[1;36m, line \u001b[1;32m2\u001b[0m\n\u001b[1;33m    X if C else Y\u001b[0m\n\u001b[1;37m    ^\u001b[0m\n\u001b[1;31mIndentationError\u001b[0m\u001b[1;31m:\u001b[0m unexpected indent\n"
     ]
    }
   ],
   "source": [
    "# 條件表達式的格式\n",
    " X if C else Y"
   ]
  },
  {
   "cell_type": "code",
   "execution_count": 8,
   "metadata": {},
   "outputs": [
    {
     "ename": "NameError",
     "evalue": "name 'X' is not defined",
     "output_type": "error",
     "traceback": [
      "\u001b[1;31m---------------------------------------------------------------------------\u001b[0m",
      "\u001b[1;31mNameError\u001b[0m                                 Traceback (most recent call last)",
      "\u001b[1;32m<ipython-input-8-78fc53afe3fa>\u001b[0m in \u001b[0;36m<module>\u001b[1;34m()\u001b[0m\n\u001b[1;32m----> 1\u001b[1;33m \u001b[0mprint\u001b[0m\u001b[1;33m(\u001b[0m\u001b[1;34m'{0}'\u001b[0m\u001b[1;33m.\u001b[0m\u001b[0mformat\u001b[0m\u001b[1;33m(\u001b[0m\u001b[1;34m\"偶數\"\u001b[0m \u001b[1;32mif\u001b[0m \u001b[1;33m(\u001b[0m\u001b[0mX\u001b[0m\u001b[1;33m%\u001b[0m\u001b[1;36m2\u001b[0m\u001b[1;33m)\u001b[0m\u001b[1;33m==\u001b[0m\u001b[1;36m0\u001b[0m \u001b[1;32melse\u001b[0m \u001b[1;34m\"奇數\"\u001b[0m\u001b[1;33m)\u001b[0m\u001b[1;33m)\u001b[0m\u001b[1;33m\u001b[0m\u001b[0m\n\u001b[0m",
      "\u001b[1;31mNameError\u001b[0m: name 'X' is not defined"
     ]
    }
   ],
   "source": [
    "print('{0}'.format(\"偶數\" if (X%2)==0 else \"奇數\"))"
   ]
  },
  {
   "cell_type": "code",
   "execution_count": 9,
   "metadata": {},
   "outputs": [
    {
     "ename": "SyntaxError",
     "evalue": "Missing parentheses in call to 'print'. Did you mean print(starrings[0])? (<ipython-input-9-3205acb9eef0>, line 2)",
     "output_type": "error",
     "traceback": [
      "\u001b[1;36m  File \u001b[1;32m\"<ipython-input-9-3205acb9eef0>\"\u001b[1;36m, line \u001b[1;32m2\u001b[0m\n\u001b[1;33m    print starrings[0]\u001b[0m\n\u001b[1;37m                  ^\u001b[0m\n\u001b[1;31mSyntaxError\u001b[0m\u001b[1;31m:\u001b[0m Missing parentheses in call to 'print'. Did you mean print(starrings[0])?\n"
     ]
    }
   ],
   "source": [
    "starrings = [\"Jennifer Aniston\", \"Courteney Cox\", \"Lisa Kudrow\", \"Matt LeBlanc\", \"Matthew Perry\", \"David Schwimmer\"]\n",
    "print starrings[0]\n",
    "print starrings[1]\n",
    "print starrings[2]\n",
    "print starrings[3]\n",
    "print starrings[4]\n",
    "print starrings[5]"
   ]
  },
  {
   "cell_type": "code",
   "execution_count": 10,
   "metadata": {},
   "outputs": [
    {
     "ename": "SyntaxError",
     "evalue": "unexpected EOF while parsing (<ipython-input-10-31ee62720de2>, line 2)",
     "output_type": "error",
     "traceback": [
      "\u001b[1;36m  File \u001b[1;32m\"<ipython-input-10-31ee62720de2>\"\u001b[1;36m, line \u001b[1;32m2\u001b[0m\n\u001b[1;33m    # 每次迭代執⾏的程式\u001b[0m\n\u001b[1;37m               ^\u001b[0m\n\u001b[1;31mSyntaxError\u001b[0m\u001b[1;31m:\u001b[0m unexpected EOF while parsing\n"
     ]
    }
   ],
   "source": [
    "while 某些條件:\n",
    " # 每次迭代執⾏的程式"
   ]
  },
  {
   "cell_type": "code",
   "execution_count": 11,
   "metadata": {},
   "outputs": [
    {
     "ename": "SyntaxError",
     "evalue": "Missing parentheses in call to 'print'. Did you mean print(starrings[i])? (<ipython-input-11-39dad7ea9778>, line 4)",
     "output_type": "error",
     "traceback": [
      "\u001b[1;36m  File \u001b[1;32m\"<ipython-input-11-39dad7ea9778>\"\u001b[1;36m, line \u001b[1;32m4\u001b[0m\n\u001b[1;33m    print starrings[i]\u001b[0m\n\u001b[1;37m                  ^\u001b[0m\n\u001b[1;31mSyntaxError\u001b[0m\u001b[1;31m:\u001b[0m Missing parentheses in call to 'print'. Did you mean print(starrings[i])?\n"
     ]
    }
   ],
   "source": [
    "starrings = [\"Jennifer Aniston\", \"Courteney Cox\", \"Lisa Kudrow\", \"Matt LeBlanc\", \"Matthew Perry\", \"David Schwimmer\"]\n",
    "i = 0\n",
    "while i < 6:\n",
    " print starrings[i]\n",
    " i += 1"
   ]
  },
  {
   "cell_type": "code",
   "execution_count": 12,
   "metadata": {},
   "outputs": [
    {
     "ename": "SyntaxError",
     "evalue": "unexpected EOF while parsing (<ipython-input-12-2fe1ebf85222>, line 2)",
     "output_type": "error",
     "traceback": [
      "\u001b[1;36m  File \u001b[1;32m\"<ipython-input-12-2fe1ebf85222>\"\u001b[1;36m, line \u001b[1;32m2\u001b[0m\n\u001b[1;33m    # 每次迭代執⾏的程式\u001b[0m\n\u001b[1;37m               ^\u001b[0m\n\u001b[1;31mSyntaxError\u001b[0m\u001b[1;31m:\u001b[0m unexpected EOF while parsing\n"
     ]
    }
   ],
   "source": [
    "for i in x:\n",
    " # 每次迭代執⾏的程式"
   ]
  },
  {
   "cell_type": "code",
   "execution_count": 13,
   "metadata": {},
   "outputs": [
    {
     "ename": "SyntaxError",
     "evalue": "Missing parentheses in call to 'print'. Did you mean print(starrings[i])? (<ipython-input-13-cd8137f69494>, line 3)",
     "output_type": "error",
     "traceback": [
      "\u001b[1;36m  File \u001b[1;32m\"<ipython-input-13-cd8137f69494>\"\u001b[1;36m, line \u001b[1;32m3\u001b[0m\n\u001b[1;33m    print starrings[i]\u001b[0m\n\u001b[1;37m                  ^\u001b[0m\n\u001b[1;31mSyntaxError\u001b[0m\u001b[1;31m:\u001b[0m Missing parentheses in call to 'print'. Did you mean print(starrings[i])?\n"
     ]
    }
   ],
   "source": [
    "starrings = [\"Jennifer Aniston\", \"Courteney Cox\", \"Lisa Kudrow\", \"Matt LeBlanc\", \"Matthew Perry\", \"David Schwimmer\"]\n",
    "for i in range(len(starrings)):\n",
    " print starrings[i]"
   ]
  },
  {
   "cell_type": "code",
   "execution_count": 14,
   "metadata": {},
   "outputs": [
    {
     "ename": "SyntaxError",
     "evalue": "invalid syntax (<ipython-input-14-52b01b25e3a9>, line 3)",
     "output_type": "error",
     "traceback": [
      "\u001b[1;36m  File \u001b[1;32m\"<ipython-input-14-52b01b25e3a9>\"\u001b[1;36m, line \u001b[1;32m3\u001b[0m\n\u001b[1;33m    print \"%i: %s\" % (index, starring)\u001b[0m\n\u001b[1;37m                 ^\u001b[0m\n\u001b[1;31mSyntaxError\u001b[0m\u001b[1;31m:\u001b[0m invalid syntax\n"
     ]
    }
   ],
   "source": [
    "starrings = [\"Jennifer Aniston\", \"Courteney Cox\", \"Lisa Kudrow\", \"Matt LeBlanc\", \"Matthew Perry\", \"David Schwimmer\"]\n",
    "for (index, starring) in enumerate(starrings):\n",
    " print \"%i: %s\" % (index, starring)"
   ]
  },
  {
   "cell_type": "code",
   "execution_count": 15,
   "metadata": {},
   "outputs": [
    {
     "ename": "SyntaxError",
     "evalue": "Missing parentheses in call to 'print'. Did you mean print(character + \" 由 \" + star + \" 主演\")? (<ipython-input-15-f9bf7ba323a3>, line 4)",
     "output_type": "error",
     "traceback": [
      "\u001b[1;36m  File \u001b[1;32m\"<ipython-input-15-f9bf7ba323a3>\"\u001b[1;36m, line \u001b[1;32m4\u001b[0m\n\u001b[1;33m    print character + \" 由 \" + star + \" 主演\"\u001b[0m\n\u001b[1;37m                  ^\u001b[0m\n\u001b[1;31mSyntaxError\u001b[0m\u001b[1;31m:\u001b[0m Missing parentheses in call to 'print'. Did you mean print(character + \" 由 \" + star + \" 主演\")?\n"
     ]
    }
   ],
   "source": [
    "characters = [\"Rachel Green\", \"Monica Geller\", \"Phoebe Buffay\", \"Joey Tribbiani\", \"Chandler Bing\", \"Ross Geller\"]\n",
    "starrings = [\"Jennifer Aniston\", \"Courteney Cox\", \"Lisa Kudrow\", \"Matt LeBlanc\", \"Matthew Perry\", \"David Schwimmer\"]\n",
    "for (character, star) in zip(characters, starrings):\n",
    " print character + \" 由 \" + star + \" 主演\""
   ]
  },
  {
   "cell_type": "code",
   "execution_count": 16,
   "metadata": {},
   "outputs": [
    {
     "ename": "SyntaxError",
     "evalue": "Missing parentheses in call to 'print'. Did you mean print(starring)? (<ipython-input-16-11af8eae3b6d>, line 3)",
     "output_type": "error",
     "traceback": [
      "\u001b[1;36m  File \u001b[1;32m\"<ipython-input-16-11af8eae3b6d>\"\u001b[1;36m, line \u001b[1;32m3\u001b[0m\n\u001b[1;33m    print starring\u001b[0m\n\u001b[1;37m                 ^\u001b[0m\n\u001b[1;31mSyntaxError\u001b[0m\u001b[1;31m:\u001b[0m Missing parentheses in call to 'print'. Did you mean print(starring)?\n"
     ]
    }
   ],
   "source": [
    "starrings = [\"Jennifer Aniston\", \"Courteney Cox\", \"Lisa Kudrow\", \"Matt LeBlanc\", \"Matthew Perry\", \"David Schwimmer\"]\n",
    "for starring in starrings:\n",
    " print starring"
   ]
  },
  {
   "cell_type": "code",
   "execution_count": 17,
   "metadata": {},
   "outputs": [
    {
     "ename": "SyntaxError",
     "evalue": "Missing parentheses in call to 'print'. Did you mean print(starring)? (<ipython-input-17-66cc63b2e804>, line 10)",
     "output_type": "error",
     "traceback": [
      "\u001b[1;36m  File \u001b[1;32m\"<ipython-input-17-66cc63b2e804>\"\u001b[1;36m, line \u001b[1;32m10\u001b[0m\n\u001b[1;33m    print starring\u001b[0m\n\u001b[1;37m                 ^\u001b[0m\n\u001b[1;31mSyntaxError\u001b[0m\u001b[1;31m:\u001b[0m Missing parentheses in call to 'print'. Did you mean print(starring)?\n"
     ]
    }
   ],
   "source": [
    "starrings = {\n",
    " \"Rachel Green\": \"Jennifer Aniston\",\n",
    " \"Monica Geller\": \"Courteney Cox\",\n",
    " \"Phoebe Buffay\": \"Lisa Kudrow\",\n",
    " \"Joey Tribbiani\": \"Matt LeBlanc\",\n",
    " \"Chandler Bing\": \"Matthew Perry\",\n",
    " \"Ross Geller\": \"David Schwimmer\"\n",
    "}\n",
    "for starring in starrings:\n",
    " print starring"
   ]
  },
  {
   "cell_type": "code",
   "execution_count": 18,
   "metadata": {},
   "outputs": [
    {
     "ename": "SyntaxError",
     "evalue": "Missing parentheses in call to 'print'. Did you mean print(starring)? (<ipython-input-18-56cbef305d5d>, line 10)",
     "output_type": "error",
     "traceback": [
      "\u001b[1;36m  File \u001b[1;32m\"<ipython-input-18-56cbef305d5d>\"\u001b[1;36m, line \u001b[1;32m10\u001b[0m\n\u001b[1;33m    print starring\u001b[0m\n\u001b[1;37m                 ^\u001b[0m\n\u001b[1;31mSyntaxError\u001b[0m\u001b[1;31m:\u001b[0m Missing parentheses in call to 'print'. Did you mean print(starring)?\n"
     ]
    }
   ],
   "source": [
    "starrings = {\n",
    " \"Rachel Green\": \"Jennifer Aniston\",\n",
    " \"Monica Geller\": \"Courteney Cox\",\n",
    " \"Phoebe Buffay\": \"Lisa Kudrow\",\n",
    " \"Joey Tribbiani\": \"Matt LeBlanc\",\n",
    " \"Chandler Bing\": \"Matthew Perry\",\n",
    " \"Ross Geller\": \"David Schwimmer\"\n",
    "}\n",
    "for starring in starrings.keys():\n",
    " print starring\n",
    "print(\"---\")\n",
    "for starring in starrings.values():\n",
    " print starring"
   ]
  },
  {
   "cell_type": "code",
   "execution_count": 19,
   "metadata": {},
   "outputs": [
    {
     "ename": "SyntaxError",
     "evalue": "invalid syntax (<ipython-input-19-2579b92e20c2>, line 10)",
     "output_type": "error",
     "traceback": [
      "\u001b[1;36m  File \u001b[1;32m\"<ipython-input-19-2579b92e20c2>\"\u001b[1;36m, line \u001b[1;32m10\u001b[0m\n\u001b[1;33m    print \"%s 由 %s 演出\" % (key, value)\u001b[0m\n\u001b[1;37m                     ^\u001b[0m\n\u001b[1;31mSyntaxError\u001b[0m\u001b[1;31m:\u001b[0m invalid syntax\n"
     ]
    }
   ],
   "source": [
    "starrings = {\n",
    " \"Rachel Green\": \"Jennifer Aniston\",\n",
    " \"Monica Geller\": \"Courteney Cox\",\n",
    " \"Phoebe Buffay\": \"Lisa Kudrow\",\n",
    " \"Joey Tribbiani\": \"Matt LeBlanc\",\n",
    " \"Chandler Bing\": \"Matthew Perry\",\n",
    " \"Ross Geller\": \"David Schwimmer\"\n",
    "}\n",
    "for (key, value) in starrings.items():\n",
    " print \"%s 由 %s 演出\" % (key, value)"
   ]
  },
  {
   "cell_type": "code",
   "execution_count": 21,
   "metadata": {},
   "outputs": [
    {
     "ename": "SyntaxError",
     "evalue": "Missing parentheses in call to 'print'. Did you mean print(character + \" 由 \" + star + \" 主演\")? (<ipython-input-21-6c6e5b044d8e>, line 10)",
     "output_type": "error",
     "traceback": [
      "\u001b[1;36m  File \u001b[1;32m\"<ipython-input-21-6c6e5b044d8e>\"\u001b[1;36m, line \u001b[1;32m10\u001b[0m\n\u001b[1;33m    print character + \" 由 \" + star + \" 主演\"\u001b[0m\n\u001b[1;37m                  ^\u001b[0m\n\u001b[1;31mSyntaxError\u001b[0m\u001b[1;31m:\u001b[0m Missing parentheses in call to 'print'. Did you mean print(character + \" 由 \" + star + \" 主演\")?\n"
     ]
    }
   ],
   "source": [
    "starrings = [\n",
    " (\"Rachel Green\", \"Jennifer Aniston\"),\n",
    " (\"Monica Geller\", \"Courteney Cox\"),\n",
    " (\"Phoebe Buffay\", \"Lisa Kudrow\"),\n",
    " (\"Joey Tribbiani\", \"Matt LeBlanc\"),\n",
    " (\"Chandler Bing\", \"Matthew Perry\"),\n",
    " (\"Ross Geller\", \"David Schwimmer\")\n",
    "]\n",
    "for (character, star) in starrings:\n",
    " print character + \" 由 \" + star + \" 主演\""
   ]
  },
  {
   "cell_type": "code",
   "execution_count": 22,
   "metadata": {},
   "outputs": [
    {
     "ename": "SyntaxError",
     "evalue": "Missing parentheses in call to 'print'. Did you mean print(coin_flips # 印出每次投擲的紀錄)? (<ipython-input-22-b8bebe6abf0c>, line 6)",
     "output_type": "error",
     "traceback": [
      "\u001b[1;36m  File \u001b[1;32m\"<ipython-input-22-b8bebe6abf0c>\"\u001b[1;36m, line \u001b[1;32m6\u001b[0m\n\u001b[1;33m    print coin_flips # 印出每次投擲的紀錄\u001b[0m\n\u001b[1;37m                   ^\u001b[0m\n\u001b[1;31mSyntaxError\u001b[0m\u001b[1;31m:\u001b[0m Missing parentheses in call to 'print'. Did you mean print(coin_flips # 印出每次投擲的紀錄)?\n"
     ]
    }
   ],
   "source": [
    "import random\n",
    "coin_flips = [] # 建立⼀個空的清單放置每⼀次投擲的結果\n",
    "coin = [\"Head\", \"Tail\"]\n",
    "while coin_flips.count(\"Head\") < 3:\n",
    " coin_flips.append(coin[random.randint(0, 1)])\n",
    "print coin_flips # 印出每次投擲的紀錄\n",
    "print len(coin_flips) # 總共投擲了幾次"
   ]
  },
  {
   "cell_type": "code",
   "execution_count": 23,
   "metadata": {},
   "outputs": [
    {
     "ename": "IndentationError",
     "evalue": "expected an indented block (<ipython-input-23-5ac1200e94c9>, line 3)",
     "output_type": "error",
     "traceback": [
      "\u001b[1;36m  File \u001b[1;32m\"<ipython-input-23-5ac1200e94c9>\"\u001b[1;36m, line \u001b[1;32m3\u001b[0m\n\u001b[1;33m    break\u001b[0m\n\u001b[1;37m        ^\u001b[0m\n\u001b[1;31mIndentationError\u001b[0m\u001b[1;31m:\u001b[0m expected an indented block\n"
     ]
    }
   ],
   "source": [
    "for x in range(1,10):\n",
    " if x==5:\n",
    " break\n",
    " print(x, end=\" \")\n",
    "for x in range(1,10):\n",
    " if x==5:\n",
    " continue\n",
    " print(x, end=\" \")"
   ]
  },
  {
   "cell_type": "code",
   "execution_count": 34,
   "metadata": {},
   "outputs": [
    {
     "ename": "IndentationError",
     "evalue": "expected an indented block (<ipython-input-34-587d9a4eac84>, line 4)",
     "output_type": "error",
     "traceback": [
      "\u001b[1;36m  File \u001b[1;32m\"<ipython-input-34-587d9a4eac84>\"\u001b[1;36m, line \u001b[1;32m4\u001b[0m\n\u001b[1;33m    break\u001b[0m\n\u001b[1;37m        ^\u001b[0m\n\u001b[1;31mIndentationError\u001b[0m\u001b[1;31m:\u001b[0m expected an indented block\n"
     ]
    }
   ],
   "source": [
    "starrings = [\"Jennifer Aniston\", \"Courteney Cox\", \"Lisa Kudrow\", \"Matt LeBlanc\", \"Matthew Perry\", \"David Schwimmer\"]\n",
    "for starring in starrings:\n",
    " if starring == \"Matt LeBlanc\":\n",
    " break\n",
    " print(starring)"
   ]
  },
  {
   "cell_type": "code",
   "execution_count": 25,
   "metadata": {},
   "outputs": [
    {
     "ename": "IndentationError",
     "evalue": "expected an indented block (<ipython-input-25-214fcdeebfd4>, line 4)",
     "output_type": "error",
     "traceback": [
      "\u001b[1;36m  File \u001b[1;32m\"<ipython-input-25-214fcdeebfd4>\"\u001b[1;36m, line \u001b[1;32m4\u001b[0m\n\u001b[1;33m    continue\u001b[0m\n\u001b[1;37m           ^\u001b[0m\n\u001b[1;31mIndentationError\u001b[0m\u001b[1;31m:\u001b[0m expected an indented block\n"
     ]
    }
   ],
   "source": [
    "starrings = [\"Jennifer Aniston\", \"Courteney Cox\", \"Lisa Kudrow\", \"Matt LeBlanc\", \"Matthew Perry\", \"David Schwimmer\"]\n",
    "for starring in starrings:\n",
    " if starring == \"Matt LeBlanc\":\n",
    " continue\n",
    " print starring"
   ]
  },
  {
   "cell_type": "code",
   "execution_count": 38,
   "metadata": {},
   "outputs": [
    {
     "ename": "SyntaxError",
     "evalue": "invalid syntax (<ipython-input-38-a71314c34ac7>, line 1)",
     "output_type": "error",
     "traceback": [
      "\u001b[1;36m  File \u001b[1;32m\"<ipython-input-38-a71314c34ac7>\"\u001b[1;36m, line \u001b[1;32m1\u001b[0m\n\u001b[1;33m    def function_name(1, 2, 3):\u001b[0m\n\u001b[1;37m                      ^\u001b[0m\n\u001b[1;31mSyntaxError\u001b[0m\u001b[1;31m:\u001b[0m invalid syntax\n"
     ]
    }
   ],
   "source": [
    "def function_name(1, 2, 3):\n",
    " Docstrings\n",
    " # 主要的程式\n",
    " return 結果"
   ]
  },
  {
   "cell_type": "code",
   "execution_count": 39,
   "metadata": {},
   "outputs": [
    {
     "ename": "SyntaxError",
     "evalue": "invalid syntax (<ipython-input-39-d5182cd05182>, line 1)",
     "output_type": "error",
     "traceback": [
      "\u001b[1;36m  File \u001b[1;32m\"<ipython-input-39-d5182cd05182>\"\u001b[1;36m, line \u001b[1;32m1\u001b[0m\n\u001b[1;33m    def function_name(輸入, 參數 1, 參數 2, ...):\u001b[0m\n\u001b[1;37m                             ^\u001b[0m\n\u001b[1;31mSyntaxError\u001b[0m\u001b[1;31m:\u001b[0m invalid syntax\n"
     ]
    }
   ],
   "source": [
    "def function_name(輸入, 參數 1, 參數 2, ...):\n",
    " `單⾏的 Docstrings'\n",
    " # 主要的程式\n",
    " return 結果"
   ]
  },
  {
   "cell_type": "code",
   "execution_count": 41,
   "metadata": {},
   "outputs": [
    {
     "ename": "SyntaxError",
     "evalue": "invalid syntax (<ipython-input-41-51018452384d>, line 1)",
     "output_type": "error",
     "traceback": [
      "\u001b[1;36m  File \u001b[1;32m\"<ipython-input-41-51018452384d>\"\u001b[1;36m, line \u001b[1;32m1\u001b[0m\n\u001b[1;33m    def function_name(輸入, 參數 1, 參數 2, ...):\u001b[0m\n\u001b[1;37m                             ^\u001b[0m\n\u001b[1;31mSyntaxError\u001b[0m\u001b[1;31m:\u001b[0m invalid syntax\n"
     ]
    }
   ],
   "source": [
    "def function_name(輸入, 參數 1, 參數 2, ...):\n",
    " '''\n",
    " 多⾏的 Docstrings\n",
    " 更多的說明內容\n",
    " '''\n",
    " # 主要的程式\n",
    " return 結果"
   ]
  },
  {
   "cell_type": "code",
   "execution_count": 44,
   "metadata": {},
   "outputs": [
    {
     "name": "stdout",
     "output_type": "stream",
     "text": [
      "Help on function my_squared in module __main__:\n",
      "\n",
      "my_squared(x)\n",
      "    將輸入的數字平⽅之後回傳\n",
      "\n"
     ]
    }
   ],
   "source": [
    "def my_squared(x):\n",
    " '將輸入的數字平⽅之後回傳'\n",
    " return x ** 2\n",
    "help(my_squared) # 查詢 my_squared() 函數"
   ]
  },
  {
   "cell_type": "code",
   "execution_count": 45,
   "metadata": {},
   "outputs": [
    {
     "name": "stdout",
     "output_type": "stream",
     "text": [
      "6\n",
      "6\n",
      "1 2 3\n"
     ]
    },
    {
     "ename": "TypeError",
     "evalue": "'a' is an invalid keyword argument for print()",
     "output_type": "error",
     "traceback": [
      "\u001b[1;31m---------------------------------------------------------------------------\u001b[0m",
      "\u001b[1;31mTypeError\u001b[0m                                 Traceback (most recent call last)",
      "\u001b[1;32m<ipython-input-45-470e4cdd6c81>\u001b[0m in \u001b[0;36m<module>\u001b[1;34m()\u001b[0m\n\u001b[0;32m      5\u001b[0m \u001b[0mprint\u001b[0m\u001b[1;33m(\u001b[0m\u001b[0mfunc\u001b[0m\u001b[1;33m(\u001b[0m\u001b[0mc\u001b[0m\u001b[1;33m=\u001b[0m\u001b[1;36m3\u001b[0m\u001b[1;33m,\u001b[0m\u001b[0mb\u001b[0m\u001b[1;33m=\u001b[0m\u001b[1;36m2\u001b[0m\u001b[1;33m,\u001b[0m\u001b[0ma\u001b[0m\u001b[1;33m=\u001b[0m\u001b[1;36m1\u001b[0m\u001b[1;33m)\u001b[0m\u001b[1;33m)\u001b[0m\u001b[1;33m\u001b[0m\u001b[0m\n\u001b[0;32m      6\u001b[0m \u001b[0mprint\u001b[0m\u001b[1;33m(\u001b[0m\u001b[1;36m1\u001b[0m\u001b[1;33m,\u001b[0m\u001b[1;36m2\u001b[0m\u001b[1;33m,\u001b[0m\u001b[1;36m3\u001b[0m\u001b[1;33m)\u001b[0m\u001b[1;33m\u001b[0m\u001b[0m\n\u001b[1;32m----> 7\u001b[1;33m \u001b[0mprint\u001b[0m\u001b[1;33m(\u001b[0m\u001b[0ma\u001b[0m\u001b[1;33m=\u001b[0m\u001b[1;36m1\u001b[0m\u001b[1;33m,\u001b[0m\u001b[0mb\u001b[0m\u001b[1;33m=\u001b[0m\u001b[1;36m2\u001b[0m\u001b[1;33m,\u001b[0m\u001b[0mc\u001b[0m\u001b[1;33m=\u001b[0m\u001b[1;36m3\u001b[0m\u001b[1;33m)\u001b[0m\u001b[1;33m\u001b[0m\u001b[0m\n\u001b[0m",
      "\u001b[1;31mTypeError\u001b[0m: 'a' is an invalid keyword argument for print()"
     ]
    }
   ],
   "source": [
    "def func(a,b,c):\n",
    " x = a + b + c\n",
    " return x\n",
    "print(func(1,2,3))\n",
    "print(func(c=3,b=2,a=1))\n",
    "print(1,2,3)\n",
    "print(a=1,b=2,c=3)"
   ]
  },
  {
   "cell_type": "code",
   "execution_count": 46,
   "metadata": {},
   "outputs": [
    {
     "ename": "IndentationError",
     "evalue": "expected an indented block (<ipython-input-46-22550eb9e401>, line 3)",
     "output_type": "error",
     "traceback": [
      "\u001b[1;36m  File \u001b[1;32m\"<ipython-input-46-22550eb9e401>\"\u001b[1;36m, line \u001b[1;32m3\u001b[0m\n\u001b[1;33m    return x\u001b[0m\n\u001b[1;37m         ^\u001b[0m\n\u001b[1;31mIndentationError\u001b[0m\u001b[1;31m:\u001b[0m expected an indented block\n"
     ]
    }
   ],
   "source": [
    "def func(x):\n",
    " if x < 10:\n",
    " return x\n",
    " else:\n",
    " return \"Over\"\n",
    "a = func(15)\n",
    "print(a)\n",
    "print(type(1))\n",
    "def func(a,b):\n",
    " n = a+b\n",
    " x = a*b\n",
    " return n, x\n",
    "num1, num2 = func(10,20)\n",
    "print(num1)\n",
    "print(num2)"
   ]
  },
  {
   "cell_type": "code",
   "execution_count": 48,
   "metadata": {},
   "outputs": [
    {
     "ename": "SyntaxError",
     "evalue": "invalid syntax (<ipython-input-48-7d6fe84fc89b>, line 2)",
     "output_type": "error",
     "traceback": [
      "\u001b[1;36m  File \u001b[1;32m\"<ipython-input-48-7d6fe84fc89b>\"\u001b[1;36m, line \u001b[1;32m2\u001b[0m\n\u001b[1;33m    def circle_area(11):\u001b[0m\n\u001b[1;37m                     ^\u001b[0m\n\u001b[1;31mSyntaxError\u001b[0m\u001b[1;31m:\u001b[0m invalid syntax\n"
     ]
    }
   ],
   "source": [
    "import math # 要使⽤圓周率 pi 得引入套件 math\n",
    "def circle_area(r):\n",
    " '輸入半徑長度可以計算出圓⾯積'\n",
    " return math.pi * r ** 2\n",
    "print circle_area(3)"
   ]
  },
  {
   "cell_type": "code",
   "execution_count": 49,
   "metadata": {},
   "outputs": [
    {
     "ename": "SyntaxError",
     "evalue": "invalid syntax (<ipython-input-49-424ca56378fe>, line 5)",
     "output_type": "error",
     "traceback": [
      "\u001b[1;36m  File \u001b[1;32m\"<ipython-input-49-424ca56378fe>\"\u001b[1;36m, line \u001b[1;32m5\u001b[0m\n\u001b[1;33m    print circle_circum(3)\u001b[0m\n\u001b[1;37m                      ^\u001b[0m\n\u001b[1;31mSyntaxError\u001b[0m\u001b[1;31m:\u001b[0m invalid syntax\n"
     ]
    }
   ],
   "source": [
    "import math # 要使⽤圓周率 pi 得引入套件 math\n",
    "def circle_circum(r):\n",
    " '輸入半徑長度可以計算出圓周長'\n",
    " return 2 * math.pi * r\n",
    "print circle_circum(3)"
   ]
  },
  {
   "cell_type": "code",
   "execution_count": 50,
   "metadata": {},
   "outputs": [
    {
     "ename": "IndentationError",
     "evalue": "expected an indented block (<ipython-input-50-17fc4332a6dc>, line 9)",
     "output_type": "error",
     "traceback": [
      "\u001b[1;36m  File \u001b[1;32m\"<ipython-input-50-17fc4332a6dc>\"\u001b[1;36m, line \u001b[1;32m9\u001b[0m\n\u001b[1;33m    return math.pi * r ** 2\u001b[0m\n\u001b[1;37m         ^\u001b[0m\n\u001b[1;31mIndentationError\u001b[0m\u001b[1;31m:\u001b[0m expected an indented block\n"
     ]
    }
   ],
   "source": [
    "import math # 要使⽤圓周率 pi 得引入套件 math\n",
    "def circle_calculator(r, is_area = True):\n",
    " '''\n",
    " 輸入半徑長度可以計算出圓⾯積與圓周長\n",
    " 利⽤參數 is_area 決定要回傳圓⾯積或圓周長\n",
    " 預設回傳圓⾯積\n",
    " '''\n",
    " if is_area == True:\n",
    " return math.pi * r ** 2\n",
    " else:\n",
    " return 2 * math.pi * r\n",
    "print circle_calculator(3)\n",
    "print circle_calculator(3, is_area = False)"
   ]
  },
  {
   "cell_type": "code",
   "execution_count": 51,
   "metadata": {},
   "outputs": [
    {
     "ename": "IndentationError",
     "evalue": "expected an indented block (<ipython-input-51-09e429e0a2b6>, line 9)",
     "output_type": "error",
     "traceback": [
      "\u001b[1;36m  File \u001b[1;32m\"<ipython-input-51-09e429e0a2b6>\"\u001b[1;36m, line \u001b[1;32m9\u001b[0m\n\u001b[1;33m    return math.pi * r ** 2\u001b[0m\n\u001b[1;37m         ^\u001b[0m\n\u001b[1;31mIndentationError\u001b[0m\u001b[1;31m:\u001b[0m expected an indented block\n"
     ]
    }
   ],
   "source": [
    "import math # 要使⽤圓周率 pi 得引入套件 math\n",
    "def circle_calculator(r, is_area): # 沒有指定預設值\n",
    " '''\n",
    " 輸入半徑長度可以計算出圓⾯積與圓周長\n",
    " 利⽤參數 is_area 決定要回傳圓⾯積或圓周長\n",
    " 預設回傳圓⾯積\n",
    " '''\n",
    " if is_area == True:\n",
    " return math.pi * r ** 2\n",
    " else:\n",
    " return 2 * math.pi * r\n",
    "print circle_calculator(3) # 沒有指定 is_area 參數的值"
   ]
  },
  {
   "cell_type": "code",
   "execution_count": 52,
   "metadata": {},
   "outputs": [
    {
     "ename": "SyntaxError",
     "evalue": "invalid syntax (<ipython-input-52-e1313f78b94b>, line 10)",
     "output_type": "error",
     "traceback": [
      "\u001b[1;36m  File \u001b[1;32m\"<ipython-input-52-e1313f78b94b>\"\u001b[1;36m, line \u001b[1;32m10\u001b[0m\n\u001b[1;33m    print circle_calculator(3)\u001b[0m\n\u001b[1;37m                          ^\u001b[0m\n\u001b[1;31mSyntaxError\u001b[0m\u001b[1;31m:\u001b[0m invalid syntax\n"
     ]
    }
   ],
   "source": [
    "import math # 要使⽤圓周率 pi 得引入套件 math\n",
    "def circle_calculator(r):\n",
    " '''\n",
    " 輸入半徑長度可以計算出圓⾯積與圓周長\n",
    " 將圓⾯積與圓周長⼀起回傳\n",
    " '''\n",
    " area = math.pi * r ** 2\n",
    " circum = 2 * math.pi * r\n",
    " return area, circum\n",
    "print circle_calculator(3)"
   ]
  },
  {
   "cell_type": "code",
   "execution_count": 53,
   "metadata": {},
   "outputs": [
    {
     "ename": "IndentationError",
     "evalue": "expected an indented block (<ipython-input-53-6f1186677f9d>, line 5)",
     "output_type": "error",
     "traceback": [
      "\u001b[1;36m  File \u001b[1;32m\"<ipython-input-53-6f1186677f9d>\"\u001b[1;36m, line \u001b[1;32m5\u001b[0m\n\u001b[1;33m    cnt += 1\u001b[0m\n\u001b[1;37m      ^\u001b[0m\n\u001b[1;31mIndentationError\u001b[0m\u001b[1;31m:\u001b[0m expected an indented block\n"
     ]
    }
   ],
   "source": [
    "def my_len(x):\n",
    " '計算輸入 list 中有幾個元素'\n",
    " cnt = 0\n",
    " for i in x:\n",
    " cnt += 1\n",
    " return cnt\n",
    "num_list = range(1, 11)\n",
    "my_len(num_list) # 計算 num_list 中有幾個數字"
   ]
  },
  {
   "cell_type": "code",
   "execution_count": 54,
   "metadata": {},
   "outputs": [
    {
     "ename": "IndentationError",
     "evalue": "expected an indented block (<ipython-input-54-1b2768c30413>, line 5)",
     "output_type": "error",
     "traceback": [
      "\u001b[1;36m  File \u001b[1;32m\"<ipython-input-54-1b2768c30413>\"\u001b[1;36m, line \u001b[1;32m5\u001b[0m\n\u001b[1;33m    summation += i\u001b[0m\n\u001b[1;37m            ^\u001b[0m\n\u001b[1;31mIndentationError\u001b[0m\u001b[1;31m:\u001b[0m expected an indented block\n"
     ]
    }
   ],
   "source": [
    "def my_sum(x):\n",
    " '計算輸入 list 中的數字加總'\n",
    " summation = 0\n",
    " for i in x:\n",
    " summation += i\n",
    " return summation\n",
    "num_list = range(1, 11)\n",
    "my_sum(num_list) # 計算 num_list 中數字的加總"
   ]
  },
  {
   "cell_type": "code",
   "execution_count": 55,
   "metadata": {},
   "outputs": [
    {
     "ename": "IndentationError",
     "evalue": "expected an indented block (<ipython-input-55-f5d19dea9f35>, line 6)",
     "output_type": "error",
     "traceback": [
      "\u001b[1;36m  File \u001b[1;32m\"<ipython-input-55-f5d19dea9f35>\"\u001b[1;36m, line \u001b[1;32m6\u001b[0m\n\u001b[1;33m    cnt += 1\u001b[0m\n\u001b[1;37m      ^\u001b[0m\n\u001b[1;31mIndentationError\u001b[0m\u001b[1;31m:\u001b[0m expected an indented block\n"
     ]
    }
   ],
   "source": [
    "def my_mean(x):\n",
    " '計算輸入 list 中的數字平均數'\n",
    " cnt = 0\n",
    " summation = 0.0\n",
    " for i in x:\n",
    " cnt += 1\n",
    " summation += i\n",
    " return (summation / cnt)\n",
    "num_list = range(1, 11)\n",
    "my_mean(num_list) # 計算 num_list 中數字的平均數"
   ]
  },
  {
   "cell_type": "code",
   "execution_count": 56,
   "metadata": {},
   "outputs": [
    {
     "ename": "SyntaxError",
     "evalue": "Missing parentheses in call to 'print'. Did you mean print(ans # 在函數外沒有 ans)? (<ipython-input-56-51ef94cc98d9>, line 4)",
     "output_type": "error",
     "traceback": [
      "\u001b[1;36m  File \u001b[1;32m\"<ipython-input-56-51ef94cc98d9>\"\u001b[1;36m, line \u001b[1;32m4\u001b[0m\n\u001b[1;33m    print ans # 在函數外沒有 ans\u001b[0m\n\u001b[1;37m            ^\u001b[0m\n\u001b[1;31mSyntaxError\u001b[0m\u001b[1;31m:\u001b[0m Missing parentheses in call to 'print'. Did you mean print(ans # 在函數外沒有 ans)?\n"
     ]
    }
   ],
   "source": [
    "def my_squared(x):\n",
    " ans = x ** 2 # ans 是⼀個區域變數\n",
    " return ans\n",
    "print ans # 在函數外沒有 ans"
   ]
  },
  {
   "cell_type": "code",
   "execution_count": 57,
   "metadata": {},
   "outputs": [
    {
     "ename": "SyntaxError",
     "evalue": "invalid syntax (<ipython-input-57-ad96295e1797>, line 5)",
     "output_type": "error",
     "traceback": [
      "\u001b[1;36m  File \u001b[1;32m\"<ipython-input-57-ad96295e1797>\"\u001b[1;36m, line \u001b[1;32m5\u001b[0m\n\u001b[1;33m    print my_squared(3) # 區域變數 ans 的值是 9\u001b[0m\n\u001b[1;37m                   ^\u001b[0m\n\u001b[1;31mSyntaxError\u001b[0m\u001b[1;31m:\u001b[0m invalid syntax\n"
     ]
    }
   ],
   "source": [
    "ans = 0 # ans 是⼀個全域變數\n",
    "def my_squared(x):\n",
    " ans = x ** 2 # ans 是⼀個區域變數\n",
    " return ans\n",
    "print my_squared(3) # 區域變數 ans 的值是 9\n",
    "print ans # 全域變數 ans 的值是 0"
   ]
  },
  {
   "cell_type": "code",
   "execution_count": 58,
   "metadata": {},
   "outputs": [
    {
     "ename": "SyntaxError",
     "evalue": "invalid syntax (<ipython-input-58-63385b9dca19>, line 2)",
     "output_type": "error",
     "traceback": [
      "\u001b[1;36m  File \u001b[1;32m\"<ipython-input-58-63385b9dca19>\"\u001b[1;36m, line \u001b[1;32m2\u001b[0m\n\u001b[1;33m    print my_squared(3)\u001b[0m\n\u001b[1;37m                   ^\u001b[0m\n\u001b[1;31mSyntaxError\u001b[0m\u001b[1;31m:\u001b[0m invalid syntax\n"
     ]
    }
   ],
   "source": [
    "my_squared = lambda x : x ** 2\n",
    "print my_squared(3)"
   ]
  },
  {
   "cell_type": "code",
   "execution_count": 59,
   "metadata": {},
   "outputs": [
    {
     "ename": "SyntaxError",
     "evalue": "invalid syntax (<ipython-input-59-de34eb5bca57>, line 2)",
     "output_type": "error",
     "traceback": [
      "\u001b[1;36m  File \u001b[1;32m\"<ipython-input-59-de34eb5bca57>\"\u001b[1;36m, line \u001b[1;32m2\u001b[0m\n\u001b[1;33m    print filter(lambda x : x % 2 == 0, my_list)\u001b[0m\n\u001b[1;37m               ^\u001b[0m\n\u001b[1;31mSyntaxError\u001b[0m\u001b[1;31m:\u001b[0m invalid syntax\n"
     ]
    }
   ],
   "source": [
    "my_list = range(1, 11)\n",
    "print filter(lambda x : x % 2 == 0, my_list)"
   ]
  },
  {
   "cell_type": "code",
   "execution_count": 60,
   "metadata": {},
   "outputs": [
    {
     "ename": "SyntaxError",
     "evalue": "invalid syntax (<ipython-input-60-1098b1f53523>, line 2)",
     "output_type": "error",
     "traceback": [
      "\u001b[1;36m  File \u001b[1;32m\"<ipython-input-60-1098b1f53523>\"\u001b[1;36m, line \u001b[1;32m2\u001b[0m\n\u001b[1;33m    print map(lambda x : x ** 2, my_list)\u001b[0m\n\u001b[1;37m            ^\u001b[0m\n\u001b[1;31mSyntaxError\u001b[0m\u001b[1;31m:\u001b[0m invalid syntax\n"
     ]
    }
   ],
   "source": [
    "my_list = range(1, 11)\n",
    "print map(lambda x : x ** 2, my_list)"
   ]
  },
  {
   "cell_type": "code",
   "execution_count": 61,
   "metadata": {},
   "outputs": [
    {
     "ename": "SyntaxError",
     "evalue": "invalid syntax (<ipython-input-61-023fc09f7077>, line 2)",
     "output_type": "error",
     "traceback": [
      "\u001b[1;36m  File \u001b[1;32m\"<ipython-input-61-023fc09f7077>\"\u001b[1;36m, line \u001b[1;32m2\u001b[0m\n\u001b[1;33m    print reduce(lambda x, y : x + y, my_list)\u001b[0m\n\u001b[1;37m               ^\u001b[0m\n\u001b[1;31mSyntaxError\u001b[0m\u001b[1;31m:\u001b[0m invalid syntax\n"
     ]
    }
   ],
   "source": [
    "my_list = range(1, 11)\n",
    "print reduce(lambda x, y : x + y, my_list)"
   ]
  },
  {
   "cell_type": "code",
   "execution_count": 62,
   "metadata": {},
   "outputs": [
    {
     "ename": "IndentationError",
     "evalue": "expected an indented block (<ipython-input-62-75753d6f749c>, line 4)",
     "output_type": "error",
     "traceback": [
      "\u001b[1;36m  File \u001b[1;32m\"<ipython-input-62-75753d6f749c>\"\u001b[1;36m, line \u001b[1;32m4\u001b[0m\n\u001b[1;33m    '計算輸入 list 中的數字加總'\u001b[0m\n\u001b[1;37m                     ^\u001b[0m\n\u001b[1;31mIndentationError\u001b[0m\u001b[1;31m:\u001b[0m expected an indented block\n"
     ]
    }
   ],
   "source": [
    "def my_mean(x):\n",
    " '計算平均數'\n",
    " def my_sum(x):\n",
    " '計算輸入 list 中的數字加總'\n",
    " summation = 0.0\n",
    " for i in x:\n",
    " summation += i\n",
    " return summation\n",
    " def my_len(x):\n",
    " '計算輸入 list 中有幾個元素'\n",
    " cnt = 0\n",
    " for i in x:\n",
    " cnt += 1\n",
    " return cnt\n",
    " return my_sum(x) / my_len(x)\n",
    "# 呼叫⾃訂函數\n",
    "my_list = range(1, 11)\n",
    "print my_mean(my_list)"
   ]
  },
  {
   "cell_type": "code",
   "execution_count": 63,
   "metadata": {},
   "outputs": [
    {
     "ename": "IndentationError",
     "evalue": "expected an indented block (<ipython-input-63-ea6bde4c2d3a>, line 4)",
     "output_type": "error",
     "traceback": [
      "\u001b[1;36m  File \u001b[1;32m\"<ipython-input-63-ea6bde4c2d3a>\"\u001b[1;36m, line \u001b[1;32m4\u001b[0m\n\u001b[1;33m    return x ** 2\u001b[0m\n\u001b[1;37m         ^\u001b[0m\n\u001b[1;31mIndentationError\u001b[0m\u001b[1;31m:\u001b[0m expected an indented block\n"
     ]
    }
   ],
   "source": [
    "def my_squared(x):\n",
    " '計算平⽅數且具有錯誤處理的函數'\n",
    " try:\n",
    " return x ** 2\n",
    " except:\n",
    " print(\"請輸入數值。\")\n",
    "my_squared(\"3\")"
   ]
  },
  {
   "cell_type": "code",
   "execution_count": 64,
   "metadata": {},
   "outputs": [
    {
     "ename": "IndentationError",
     "evalue": "expected an indented block (<ipython-input-64-7071576a06f2>, line 3)",
     "output_type": "error",
     "traceback": [
      "\u001b[1;36m  File \u001b[1;32m\"<ipython-input-64-7071576a06f2>\"\u001b[1;36m, line \u001b[1;32m3\u001b[0m\n\u001b[1;33m    return x / y\u001b[0m\n\u001b[1;37m         ^\u001b[0m\n\u001b[1;31mIndentationError\u001b[0m\u001b[1;31m:\u001b[0m expected an indented block\n"
     ]
    }
   ],
   "source": [
    "def divide(x, y):\n",
    " try:\n",
    " return x / y\n",
    " except TypeError:\n",
    " print(\"請輸入數值。\")\n",
    " except ZeroDivisionError:\n",
    " print(\"除數不可以為零。\")\n",
    " except:\n",
    " print(\"其他的錯誤\")\n",
    "print divide(\"9\", 3)\n",
    "print divide(9, 0)"
   ]
  },
  {
   "cell_type": "code",
   "execution_count": 65,
   "metadata": {},
   "outputs": [
    {
     "ename": "SyntaxError",
     "evalue": "invalid syntax (<ipython-input-65-f0cda145bfa0>, line 1)",
     "output_type": "error",
     "traceback": [
      "\u001b[1;36m  File \u001b[1;32m\"<ipython-input-65-f0cda145bfa0>\"\u001b[1;36m, line \u001b[1;32m1\u001b[0m\n\u001b[1;33m    $ cd ~/intro_2_py_ds\u001b[0m\n\u001b[1;37m    ^\u001b[0m\n\u001b[1;31mSyntaxError\u001b[0m\u001b[1;31m:\u001b[0m invalid syntax\n"
     ]
    }
   ],
   "source": [
    "$ cd ~/intro_2_py_ds\n",
    "$ touch stand_alone.py"
   ]
  },
  {
   "cell_type": "code",
   "execution_count": 66,
   "metadata": {},
   "outputs": [
    {
     "ename": "SyntaxError",
     "evalue": "Missing parentheses in call to 'print'. Did you mean print(\"嗨，我可以從終端機執⾏！\")? (<ipython-input-66-c5d7a390e60f>, line 2)",
     "output_type": "error",
     "traceback": [
      "\u001b[1;36m  File \u001b[1;32m\"<ipython-input-66-c5d7a390e60f>\"\u001b[1;36m, line \u001b[1;32m2\u001b[0m\n\u001b[1;33m    print \"嗨，我可以從終端機執⾏！\"\u001b[0m\n\u001b[1;37m                       ^\u001b[0m\n\u001b[1;31mSyntaxError\u001b[0m\u001b[1;31m:\u001b[0m Missing parentheses in call to 'print'. Did you mean print(\"嗨，我可以從終端機執⾏！\")?\n"
     ]
    }
   ],
   "source": [
    "# coding=utf-8\n",
    "print \"嗨，我可以從終端機執⾏！\""
   ]
  },
  {
   "cell_type": "code",
   "execution_count": 67,
   "metadata": {},
   "outputs": [
    {
     "ename": "SyntaxError",
     "evalue": "invalid syntax (<ipython-input-67-ff0ea5ca13ef>, line 1)",
     "output_type": "error",
     "traceback": [
      "\u001b[1;36m  File \u001b[1;32m\"<ipython-input-67-ff0ea5ca13ef>\"\u001b[1;36m, line \u001b[1;32m1\u001b[0m\n\u001b[1;33m    $ python stand_alone.py\u001b[0m\n\u001b[1;37m    ^\u001b[0m\n\u001b[1;31mSyntaxError\u001b[0m\u001b[1;31m:\u001b[0m invalid syntax\n"
     ]
    }
   ],
   "source": [
    "$ python stand_alone.py"
   ]
  },
  {
   "cell_type": "code",
   "execution_count": 68,
   "metadata": {},
   "outputs": [
    {
     "ename": "SyntaxError",
     "evalue": "invalid character in identifier (<ipython-input-68-054bd04e30f7>, line 1)",
     "output_type": "error",
     "traceback": [
      "\u001b[1;36m  File \u001b[1;32m\"<ipython-input-68-054bd04e30f7>\"\u001b[1;36m, line \u001b[1;32m1\u001b[0m\n\u001b[1;33m    嗨，我可以從終端機執⾏！\u001b[0m\n\u001b[1;37m               ^\u001b[0m\n\u001b[1;31mSyntaxError\u001b[0m\u001b[1;31m:\u001b[0m invalid character in identifier\n"
     ]
    }
   ],
   "source": [
    "嗨，我可以從終端機執⾏！"
   ]
  },
  {
   "cell_type": "code",
   "execution_count": 69,
   "metadata": {},
   "outputs": [
    {
     "ename": "SyntaxError",
     "evalue": "invalid syntax (<ipython-input-69-75ebe0f39f74>, line 1)",
     "output_type": "error",
     "traceback": [
      "\u001b[1;36m  File \u001b[1;32m\"<ipython-input-69-75ebe0f39f74>\"\u001b[1;36m, line \u001b[1;32m1\u001b[0m\n\u001b[1;33m    $ cd ~/intro_2_py_ds\u001b[0m\n\u001b[1;37m    ^\u001b[0m\n\u001b[1;31mSyntaxError\u001b[0m\u001b[1;31m:\u001b[0m invalid syntax\n"
     ]
    }
   ],
   "source": [
    "$ cd ~/intro_2_py_ds\n",
    "$ touch stand_alone_w_args.py"
   ]
  },
  {
   "cell_type": "code",
   "execution_count": 70,
   "metadata": {},
   "outputs": [
    {
     "ename": "SyntaxError",
     "evalue": "Missing parentheses in call to 'print'. Did you mean print(\"這些是從終端機回傳的參數：\", sys.argv)? (<ipython-input-70-68db793b4e3e>, line 3)",
     "output_type": "error",
     "traceback": [
      "\u001b[1;36m  File \u001b[1;32m\"<ipython-input-70-68db793b4e3e>\"\u001b[1;36m, line \u001b[1;32m3\u001b[0m\n\u001b[1;33m    print \"這些是從終端機回傳的參數：\", sys.argv\u001b[0m\n\u001b[1;37m                        ^\u001b[0m\n\u001b[1;31mSyntaxError\u001b[0m\u001b[1;31m:\u001b[0m Missing parentheses in call to 'print'. Did you mean print(\"這些是從終端機回傳的參數：\", sys.argv)?\n"
     ]
    }
   ],
   "source": [
    "# coding=utf-8\n",
    "import sys\n",
    "print \"這些是從終端機回傳的參數：\", sys.argv"
   ]
  },
  {
   "cell_type": "code",
   "execution_count": 71,
   "metadata": {},
   "outputs": [
    {
     "ename": "SyntaxError",
     "evalue": "invalid syntax (<ipython-input-71-eaaeb87a03ae>, line 1)",
     "output_type": "error",
     "traceback": [
      "\u001b[1;36m  File \u001b[1;32m\"<ipython-input-71-eaaeb87a03ae>\"\u001b[1;36m, line \u001b[1;32m1\u001b[0m\n\u001b[1;33m    $ python stand_alone_w_args.py\u001b[0m\n\u001b[1;37m    ^\u001b[0m\n\u001b[1;31mSyntaxError\u001b[0m\u001b[1;31m:\u001b[0m invalid syntax\n"
     ]
    }
   ],
   "source": [
    "$ python stand_alone_w_args.py"
   ]
  },
  {
   "cell_type": "code",
   "execution_count": 72,
   "metadata": {},
   "outputs": [
    {
     "ename": "SyntaxError",
     "evalue": "invalid syntax (<ipython-input-72-304cc6774230>, line 1)",
     "output_type": "error",
     "traceback": [
      "\u001b[1;36m  File \u001b[1;32m\"<ipython-input-72-304cc6774230>\"\u001b[1;36m, line \u001b[1;32m1\u001b[0m\n\u001b[1;33m    $ python stand_alone_w_args.py arg1 arg2 arg3\u001b[0m\n\u001b[1;37m    ^\u001b[0m\n\u001b[1;31mSyntaxError\u001b[0m\u001b[1;31m:\u001b[0m invalid syntax\n"
     ]
    }
   ],
   "source": [
    "$ python stand_alone_w_args.py arg1 arg2 arg3"
   ]
  },
  {
   "cell_type": "code",
   "execution_count": 73,
   "metadata": {},
   "outputs": [
    {
     "ename": "SyntaxError",
     "evalue": "invalid syntax (<ipython-input-73-89f23452a362>, line 1)",
     "output_type": "error",
     "traceback": [
      "\u001b[1;36m  File \u001b[1;32m\"<ipython-input-73-89f23452a362>\"\u001b[1;36m, line \u001b[1;32m1\u001b[0m\n\u001b[1;33m    $ cd ~/intro_2_py_ds\u001b[0m\n\u001b[1;37m    ^\u001b[0m\n\u001b[1;31mSyntaxError\u001b[0m\u001b[1;31m:\u001b[0m invalid syntax\n"
     ]
    }
   ],
   "source": [
    "$ cd ~/intro_2_py_ds\n",
    "$ touch circle_calculator.py"
   ]
  },
  {
   "cell_type": "code",
   "execution_count": 74,
   "metadata": {},
   "outputs": [
    {
     "ename": "SyntaxError",
     "evalue": "invalid syntax (<ipython-input-74-5b3ebfb3b9e7>, line 10)",
     "output_type": "error",
     "traceback": [
      "\u001b[1;36m  File \u001b[1;32m\"<ipython-input-74-5b3ebfb3b9e7>\"\u001b[1;36m, line \u001b[1;32m10\u001b[0m\n\u001b[1;33m    print \"圓⾯積：\", circle_calculator(radius)[0], \"\\n\", \"圓周長：\", circle_calculator(rad\u001b[0m\n\u001b[1;37m               ^\u001b[0m\n\u001b[1;31mSyntaxError\u001b[0m\u001b[1;31m:\u001b[0m invalid syntax\n"
     ]
    }
   ],
   "source": [
    "# coding=utf-8\n",
    "import sys\n",
    "import math\n",
    "def circle_calculator(r):\n",
    " '計算圓形⾯積與周長'\n",
    " area = math.pi * r**2\n",
    " circum = 2 * math.pi * r\n",
    " return area, circum\n",
    "radius = float(sys.argv[1])\n",
    "print \"圓⾯積：\", circle_calculator(radius)[0], \"\\n\", \"圓周長：\", circle_calculator(rad"
   ]
  },
  {
   "cell_type": "code",
   "execution_count": 75,
   "metadata": {},
   "outputs": [
    {
     "ename": "SyntaxError",
     "evalue": "invalid syntax (<ipython-input-75-b906203ce3b4>, line 1)",
     "output_type": "error",
     "traceback": [
      "\u001b[1;36m  File \u001b[1;32m\"<ipython-input-75-b906203ce3b4>\"\u001b[1;36m, line \u001b[1;32m1\u001b[0m\n\u001b[1;33m    $ python2 circle_calculator.py 3\u001b[0m\n\u001b[1;37m    ^\u001b[0m\n\u001b[1;31mSyntaxError\u001b[0m\u001b[1;31m:\u001b[0m invalid syntax\n"
     ]
    }
   ],
   "source": [
    "$ python2 circle_calculator.py 3"
   ]
  },
  {
   "cell_type": "code",
   "execution_count": 76,
   "metadata": {},
   "outputs": [
    {
     "ename": "SyntaxError",
     "evalue": "invalid syntax (<ipython-input-76-719aa0e85271>, line 1)",
     "output_type": "error",
     "traceback": [
      "\u001b[1;36m  File \u001b[1;32m\"<ipython-input-76-719aa0e85271>\"\u001b[1;36m, line \u001b[1;32m1\u001b[0m\n\u001b[1;33m    $ cd ~/intro_2_py_ds\u001b[0m\n\u001b[1;37m    ^\u001b[0m\n\u001b[1;31mSyntaxError\u001b[0m\u001b[1;31m:\u001b[0m invalid syntax\n"
     ]
    }
   ],
   "source": [
    "$ cd ~/intro_2_py_ds\n",
    "$ touch coin.py"
   ]
  },
  {
   "cell_type": "code",
   "execution_count": 87,
   "metadata": {},
   "outputs": [],
   "source": [
    "from random import choice\n",
    "def flip_a_coin():\n",
    " '投擲硬幣'\n",
    " coin = [\"Head\", \"Tail\"]\n",
    " return choice(coin)"
   ]
  },
  {
   "cell_type": "code",
   "execution_count": 88,
   "metadata": {},
   "outputs": [
    {
     "ename": "SyntaxError",
     "evalue": "invalid syntax (<ipython-input-88-d510d0a9c10d>, line 1)",
     "output_type": "error",
     "traceback": [
      "\u001b[1;36m  File \u001b[1;32m\"<ipython-input-88-d510d0a9c10d>\"\u001b[1;36m, line \u001b[1;32m1\u001b[0m\n\u001b[1;33m    $ cd ~/intro_2_py_ds\u001b[0m\n\u001b[1;37m    ^\u001b[0m\n\u001b[1;31mSyntaxError\u001b[0m\u001b[1;31m:\u001b[0m invalid syntax\n"
     ]
    }
   ],
   "source": [
    "$ cd ~/intro_2_py_ds\n",
    "$ touch coin_flip.py"
   ]
  },
  {
   "cell_type": "code",
   "execution_count": 89,
   "metadata": {},
   "outputs": [
    {
     "ename": "SyntaxError",
     "evalue": "Missing parentheses in call to 'print'. Did you mean print(\"投擲硬幣：\", coin_flip)? (<ipython-input-89-bac6e8429086>, line 4)",
     "output_type": "error",
     "traceback": [
      "\u001b[1;36m  File \u001b[1;32m\"<ipython-input-89-bac6e8429086>\"\u001b[1;36m, line \u001b[1;32m4\u001b[0m\n\u001b[1;33m    print \"投擲硬幣：\", coin_flip\u001b[0m\n\u001b[1;37m                ^\u001b[0m\n\u001b[1;31mSyntaxError\u001b[0m\u001b[1;31m:\u001b[0m Missing parentheses in call to 'print'. Did you mean print(\"投擲硬幣：\", coin_flip)?\n"
     ]
    }
   ],
   "source": [
    "# coding=utf-8\n",
    "import coin\n",
    "coin_flip = coin.flip_a_coin()\n",
    "print \"投擲硬幣：\", coin_flip"
   ]
  },
  {
   "cell_type": "code",
   "execution_count": 90,
   "metadata": {},
   "outputs": [
    {
     "ename": "SyntaxError",
     "evalue": "invalid syntax (<ipython-input-90-bf162ec9e23c>, line 1)",
     "output_type": "error",
     "traceback": [
      "\u001b[1;36m  File \u001b[1;32m\"<ipython-input-90-bf162ec9e23c>\"\u001b[1;36m, line \u001b[1;32m1\u001b[0m\n\u001b[1;33m    $ python coin_flip.py\u001b[0m\n\u001b[1;37m    ^\u001b[0m\n\u001b[1;31mSyntaxError\u001b[0m\u001b[1;31m:\u001b[0m invalid syntax\n"
     ]
    }
   ],
   "source": [
    "$ python coin_flip.py\n",
    "投擲硬幣： Head\n",
    "$ python coin_flip.py\n",
    "投擲硬幣： Head\n",
    "$ python coin_flip.py\n",
    "投擲硬幣： Tail"
   ]
  },
  {
   "cell_type": "code",
   "execution_count": 91,
   "metadata": {},
   "outputs": [
    {
     "ename": "SyntaxError",
     "evalue": "Missing parentheses in call to 'print'. Did you mean print(\"投擲硬幣：\", coin_flip)? (<ipython-input-91-12f25268ca9a>, line 4)",
     "output_type": "error",
     "traceback": [
      "\u001b[1;36m  File \u001b[1;32m\"<ipython-input-91-12f25268ca9a>\"\u001b[1;36m, line \u001b[1;32m4\u001b[0m\n\u001b[1;33m    print \"投擲硬幣：\", coin_flip\u001b[0m\n\u001b[1;37m                ^\u001b[0m\n\u001b[1;31mSyntaxError\u001b[0m\u001b[1;31m:\u001b[0m Missing parentheses in call to 'print'. Did you mean print(\"投擲硬幣：\", coin_flip)?\n"
     ]
    }
   ],
   "source": [
    "# coding=utf-8\n",
    "import coin as COIN\n",
    "coin_flip = COIN.flip_a_coin()\n",
    "print \"投擲硬幣：\", coin_flip"
   ]
  },
  {
   "cell_type": "code",
   "execution_count": 92,
   "metadata": {},
   "outputs": [],
   "source": [
    "# coding=utf-8\n",
    "import math\n",
    "def circle_area(r):\n",
    " '計算圓形⾯積'\n",
    " area = math.pi * r**2\n",
    " return area\n",
    "def circle_circum(r):\n",
    " '計算圓形周長'\n",
    " circum = 2 * math.pi * r\n",
    " return circum"
   ]
  },
  {
   "cell_type": "code",
   "execution_count": 93,
   "metadata": {},
   "outputs": [
    {
     "ename": "SyntaxError",
     "evalue": "invalid syntax (<ipython-input-93-d250c5d0222d>, line 5)",
     "output_type": "error",
     "traceback": [
      "\u001b[1;36m  File \u001b[1;32m\"<ipython-input-93-d250c5d0222d>\"\u001b[1;36m, line \u001b[1;32m5\u001b[0m\n\u001b[1;33m    print \"圓⾯積：\", circle_area(radius)\u001b[0m\n\u001b[1;37m               ^\u001b[0m\n\u001b[1;31mSyntaxError\u001b[0m\u001b[1;31m:\u001b[0m invalid syntax\n"
     ]
    }
   ],
   "source": [
    "# coding=utf-8\n",
    "import sys\n",
    "from circle_calculator import circle_area\n",
    "radius = float(sys.argv[1])\n",
    "print \"圓⾯積：\", circle_area(radius)"
   ]
  },
  {
   "cell_type": "code",
   "execution_count": 94,
   "metadata": {},
   "outputs": [
    {
     "ename": "SyntaxError",
     "evalue": "invalid syntax (<ipython-input-94-99f524dcab08>, line 1)",
     "output_type": "error",
     "traceback": [
      "\u001b[1;36m  File \u001b[1;32m\"<ipython-input-94-99f524dcab08>\"\u001b[1;36m, line \u001b[1;32m1\u001b[0m\n\u001b[1;33m    $ python calculate_circle_area.py 3\u001b[0m\n\u001b[1;37m    ^\u001b[0m\n\u001b[1;31mSyntaxError\u001b[0m\u001b[1;31m:\u001b[0m invalid syntax\n"
     ]
    }
   ],
   "source": [
    "$ python calculate_circle_area.py 3\n",
    "圓⾯積： 28.2743338823"
   ]
  },
  {
   "cell_type": "code",
   "execution_count": 95,
   "metadata": {},
   "outputs": [
    {
     "ename": "ModuleNotFoundError",
     "evalue": "No module named '模組名稱'",
     "output_type": "error",
     "traceback": [
      "\u001b[1;31m---------------------------------------------------------------------------\u001b[0m",
      "\u001b[1;31mModuleNotFoundError\u001b[0m                       Traceback (most recent call last)",
      "\u001b[1;32m<ipython-input-95-c90862a64694>\u001b[0m in \u001b[0;36m<module>\u001b[1;34m()\u001b[0m\n\u001b[1;32m----> 1\u001b[1;33m \u001b[1;32mimport\u001b[0m \u001b[0m模組名稱\u001b[0m\u001b[1;33m\u001b[0m\u001b[0m\n\u001b[0m\u001b[0;32m      2\u001b[0m \u001b[1;32mimport\u001b[0m \u001b[0m模組名稱1\u001b[0m\u001b[1;33m,\u001b[0m\u001b[0m模組名稱2\u001b[0m\u001b[1;33m\u001b[0m\u001b[0m\n",
      "\u001b[1;31mModuleNotFoundError\u001b[0m: No module named '模組名稱'"
     ]
    }
   ],
   "source": [
    "import 模組名稱\n",
    "import 模組名稱1,模組名稱2"
   ]
  },
  {
   "cell_type": "code",
   "execution_count": 96,
   "metadata": {},
   "outputs": [
    {
     "ename": "ModuleNotFoundError",
     "evalue": "No module named '模組名稱'",
     "output_type": "error",
     "traceback": [
      "\u001b[1;31m---------------------------------------------------------------------------\u001b[0m",
      "\u001b[1;31mModuleNotFoundError\u001b[0m                       Traceback (most recent call last)",
      "\u001b[1;32m<ipython-input-96-45abfc224fc0>\u001b[0m in \u001b[0;36m<module>\u001b[1;34m()\u001b[0m\n\u001b[1;32m----> 1\u001b[1;33m \u001b[1;32mimport\u001b[0m \u001b[0m模組名稱\u001b[0m \u001b[1;32mas\u001b[0m \u001b[0m別名\u001b[0m\u001b[1;33m\u001b[0m\u001b[0m\n\u001b[0m",
      "\u001b[1;31mModuleNotFoundError\u001b[0m: No module named '模組名稱'"
     ]
    }
   ],
   "source": [
    "import 模組名稱 as 別名"
   ]
  },
  {
   "cell_type": "code",
   "execution_count": 97,
   "metadata": {},
   "outputs": [
    {
     "ename": "ModuleNotFoundError",
     "evalue": "No module named '模組名稱'",
     "output_type": "error",
     "traceback": [
      "\u001b[1;31m---------------------------------------------------------------------------\u001b[0m",
      "\u001b[1;31mModuleNotFoundError\u001b[0m                       Traceback (most recent call last)",
      "\u001b[1;32m<ipython-input-97-7032c55496e6>\u001b[0m in \u001b[0;36m<module>\u001b[1;34m()\u001b[0m\n\u001b[1;32m----> 1\u001b[1;33m \u001b[1;32mfrom\u001b[0m \u001b[0m模組名稱\u001b[0m \u001b[1;32mimport\u001b[0m \u001b[0m函數名稱\u001b[0m\u001b[1;33m\u001b[0m\u001b[0m\n\u001b[0m",
      "\u001b[1;31mModuleNotFoundError\u001b[0m: No module named '模組名稱'"
     ]
    }
   ],
   "source": [
    "from 模組名稱 import 函數名稱"
   ]
  },
  {
   "cell_type": "code",
   "execution_count": 98,
   "metadata": {},
   "outputs": [
    {
     "ename": "SyntaxError",
     "evalue": "invalid syntax (<ipython-input-98-4fb0a1cbf0c2>, line 1)",
     "output_type": "error",
     "traceback": [
      "\u001b[1;36m  File \u001b[1;32m\"<ipython-input-98-4fb0a1cbf0c2>\"\u001b[1;36m, line \u001b[1;32m1\u001b[0m\n\u001b[1;33m    $ cd ~\u001b[0m\n\u001b[1;37m    ^\u001b[0m\n\u001b[1;31mSyntaxError\u001b[0m\u001b[1;31m:\u001b[0m invalid syntax\n"
     ]
    }
   ],
   "source": [
    "$ cd ~\n",
    "$ mkdir casino\n",
    "$ cd casino\n",
    "$ touch dice.py poker.py __init__.py\n",
    "$ ls\n",
    "__init__.py dice.py poker.py"
   ]
  },
  {
   "cell_type": "code",
   "execution_count": 99,
   "metadata": {},
   "outputs": [],
   "source": [
    "# coding=utf-8\n",
    "from random import choice\n",
    "def roll_dice():\n",
    " '投擲骰⼦'\n",
    " dice = range(1, 7)\n",
    " return choice(dice)"
   ]
  },
  {
   "cell_type": "code",
   "execution_count": 100,
   "metadata": {},
   "outputs": [
    {
     "ename": "IndentationError",
     "evalue": "expected an indented block (<ipython-input-100-57cce70e1535>, line 11)",
     "output_type": "error",
     "traceback": [
      "\u001b[1;36m  File \u001b[1;32m\"<ipython-input-100-57cce70e1535>\"\u001b[1;36m, line \u001b[1;32m11\u001b[0m\n\u001b[1;33m    spades.append(denominations[i] + \" Spade\")\u001b[0m\n\u001b[1;37m         ^\u001b[0m\n\u001b[1;31mIndentationError\u001b[0m\u001b[1;31m:\u001b[0m expected an indented block\n"
     ]
    }
   ],
   "source": [
    "# coding=utf-8\n",
    "from random import choice\n",
    "def card_deal():\n",
    " '發撲克牌'\n",
    " spades = []\n",
    " hearts = []\n",
    " diamonds = []\n",
    " clubs = []\n",
    " denominations = map(str, range(2, 11)) + ['J', 'Q', 'K', 'Ace']\n",
    " for i in range(len(denominations)):\n",
    " spades.append(denominations[i] + \" Spade\")\n",
    " hearts.append(denominations[i] + \" Heart\")\n",
    " diamonds.append(denominations[i] + \" Diamond\")\n",
    " clubs.append(denominations[i] + \" Club\")\n",
    " poker_cards = spades + hearts + diamonds + clubs\n",
    " return choice(poker_cards)"
   ]
  },
  {
   "cell_type": "code",
   "execution_count": 107,
   "metadata": {},
   "outputs": [
    {
     "ename": "SyntaxError",
     "evalue": "invalid syntax (<ipython-input-107-d2d0051f1135>, line 3)",
     "output_type": "error",
     "traceback": [
      "\u001b[1;36m  File \u001b[1;32m\"<ipython-input-107-d2d0051f1135>\"\u001b[1;36m, line \u001b[1;32m3\u001b[0m\n\u001b[1;33m    print \"投擲骰⼦：\", dice.roll_dice()\u001b[0m\n\u001b[1;37m                ^\u001b[0m\n\u001b[1;31mSyntaxError\u001b[0m\u001b[1;31m:\u001b[0m invalid syntax\n"
     ]
    }
   ],
   "source": [
    "# coding=utf-8\n",
    "from casino import dice, poker\n",
    "print \"投擲骰⼦：\", dice.roll_dice()\n",
    "print \"發撲克牌：\", poker.card_deal()"
   ]
  },
  {
   "cell_type": "code",
   "execution_count": 106,
   "metadata": {},
   "outputs": [
    {
     "ename": "SyntaxError",
     "evalue": "invalid syntax (<ipython-input-106-4548b0e8721a>, line 1)",
     "output_type": "error",
     "traceback": [
      "\u001b[1;36m  File \u001b[1;32m\"<ipython-input-106-4548b0e8721a>\"\u001b[1;36m, line \u001b[1;32m1\u001b[0m\n\u001b[1;33m    $ python casino_play.py\u001b[0m\n\u001b[1;37m    ^\u001b[0m\n\u001b[1;31mSyntaxError\u001b[0m\u001b[1;31m:\u001b[0m invalid syntax\n"
     ]
    }
   ],
   "source": [
    "$ python casino_play.py\n",
    "投擲骰⼦： 2\n",
    "發撲克牌： 4 Spade"
   ]
  },
  {
   "cell_type": "code",
   "execution_count": 105,
   "metadata": {},
   "outputs": [
    {
     "ename": "SyntaxError",
     "evalue": "Missing parentheses in call to 'print'. Did you mean print(np.__version__)? (<ipython-input-105-b9f76d5fd347>, line 5)",
     "output_type": "error",
     "traceback": [
      "\u001b[1;36m  File \u001b[1;32m\"<ipython-input-105-b9f76d5fd347>\"\u001b[1;36m, line \u001b[1;32m5\u001b[0m\n\u001b[1;33m    print np.__version__\u001b[0m\n\u001b[1;37m           ^\u001b[0m\n\u001b[1;31mSyntaxError\u001b[0m\u001b[1;31m:\u001b[0m Missing parentheses in call to 'print'. Did you mean print(np.__version__)?\n"
     ]
    }
   ],
   "source": [
    "import numpy as np\n",
    "import pandas as pd\n",
    "import matplotlib as plt\n",
    "import sklearn\n",
    "print np.__version__\n",
    "print pd.__version__\n",
    "print plt.__version__\n",
    "print sklearn.__version__"
   ]
  }
 ],
 "metadata": {
  "kernelspec": {
   "display_name": "Python 3",
   "language": "python",
   "name": "python3"
  },
  "language_info": {
   "codemirror_mode": {
    "name": "ipython",
    "version": 3
   },
   "file_extension": ".py",
   "mimetype": "text/x-python",
   "name": "python",
   "nbconvert_exporter": "python",
   "pygments_lexer": "ipython3",
   "version": "3.7.0"
  }
 },
 "nbformat": 4,
 "nbformat_minor": 2
}
